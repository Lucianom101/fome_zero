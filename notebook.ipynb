{
 "cells": [
  {
   "attachments": {},
   "cell_type": "markdown",
   "metadata": {},
   "source": [
    "## Bibliotecas"
   ]
  },
  {
   "cell_type": "code",
   "execution_count": null,
   "metadata": {},
   "outputs": [],
   "source": [
    "# 1.Bibliotecas\n",
    "import pandas as pd\n",
    "import inflection\n",
    "import sweetviz as sv\n",
    "import numpy as np\n",
    "import folium\n",
    "import plotly.express as px\n",
    "import numpy as np\n",
    "import plotly.graph_objects as go\n",
    "from collections import namedtuple\n",
    "from folium.plugins import MarkerCluster\n"
   ]
  },
  {
   "attachments": {},
   "cell_type": "markdown",
   "metadata": {},
   "source": [
    "## Importação da base de dados"
   ]
  },
  {
   "cell_type": "code",
   "execution_count": null,
   "metadata": {},
   "outputs": [],
   "source": [
    "# 2. Importando a base de dados\n",
    "df = pd.read_csv('dataset/zomato.csv')\n",
    "df1 = pd.read_csv('dataset/zomato.csv')"
   ]
  },
  {
   "attachments": {},
   "cell_type": "markdown",
   "metadata": {},
   "source": [
    "## Limpezas e Funções"
   ]
  },
  {
   "attachments": {},
   "cell_type": "markdown",
   "metadata": {},
   "source": [
    "#### Funções"
   ]
  },
  {
   "cell_type": "code",
   "execution_count": null,
   "metadata": {},
   "outputs": [],
   "source": [
    "# 3. Funções e dicionários\n",
    "\n",
    "# 3.1 Criação do nome das Cores\n",
    "COLORS = {\n",
    "\"3F7E00\": \"darkgreen\",\n",
    "\"5BA829\": \"green\",\n",
    "\"9ACD32\": \"lightgreen\",\n",
    "\"CDD614\": \"orange\",\n",
    "\"FFBA00\": \"red\",\n",
    "\"CBCBC8\": \"darkred\",\n",
    "\"FF7800\": \"darkred\",\n",
    "}\n",
    "\n",
    "def color_name(color_code):\n",
    "    return COLORS[color_code]\n",
    "\n",
    "# 3.2 Preenchimento do nome dos países\n",
    "COUNTRIES = {\n",
    "1: \"India\",\n",
    "14: \"Australia\",\n",
    "30: \"Brazil\",\n",
    "37: \"Canada\",\n",
    "94: \"Indonesia\",\n",
    "148: \"New Zeland\",\n",
    "162: \"Philippines\",\n",
    "166: \"Qatar\",\n",
    "184: \"Singapure\",\n",
    "189: \"South Africa\",\n",
    "191: \"Sri Lanka\",\n",
    "208: \"Turkey\",\n",
    "214: \"United Arab Emirates\",\n",
    "215: \"England\",\n",
    "216: \"United States of America\",\n",
    "}\n",
    "\n",
    "def country_name(country_id):\n",
    "    return COUNTRIES[country_id]\n",
    "\n",
    "# 3.3 Criação do Tipo de Categoria de Comida\n",
    "def create_price_tye(price_range):\n",
    "    if price_range == 1:\n",
    "        return \"cheap\"\n",
    "    elif price_range == 2:\n",
    "        return \"normal\"\n",
    "    elif price_range == 3:\n",
    "        return \"expensive\"\n",
    "    else:\n",
    "        return \"gourmet\"\n",
    "\n",
    "# 3.4 Renomear as colunas do DataFrame    \n",
    "def rename_columns(dataframe):\n",
    "    df = dataframe.copy()\n",
    "    title = lambda x: inflection.titleize(x)\n",
    "    snakecase = lambda x: inflection.underscore(x)\n",
    "    spaces = lambda x: x.replace(\" \", \"\")\n",
    "    cols_old = list(df.columns)\n",
    "    cols_old = list(map(title, cols_old))\n",
    "    cols_old = list(map(spaces, cols_old))\n",
    "    cols_new = list(map(snakecase, cols_old))\n",
    "    df.columns = cols_new\n",
    "\n",
    "    return df\n",
    "\n",
    "# 3.5 Total de tipos de culinárias disponíveis\n",
    "def fnc_tot_tp_culinaria( df ):\n",
    "    vListaCuisines = ( set( df['cuisines'] ) )\n",
    "    vListaTotalCuisine = []\n",
    "    \n",
    "    for vCuisine in vListaCuisines:\n",
    "        vTeste = vCuisine.split(',')\n",
    "        # print(vTeste)\n",
    "        for vPalavra in vTeste:\n",
    "            vPalavra = vPalavra.strip()\n",
    "            # print(vPalavra)\n",
    "            if vPalavra in vListaTotalCuisine:\n",
    "                None\n",
    "            \n",
    "            else:\n",
    "                vListaTotalCuisine.append( vPalavra )\n",
    "\n",
    "    df_aux = pd.DataFrame(vListaTotalCuisine)\n",
    "    \n",
    "    return df_aux.count()\n",
    "\n",
    "# 3.6 Calculos por país\n",
    "def fnc_calc_per_country( flag, tp_calc, df ):\n",
    "    v01 = 0\n",
    "    v02 = 0\n",
    "    vList01 = []\n",
    "    vList02 = []\n",
    "\n",
    "    # Quantidade de cidades registradas por pais\n",
    "    if flag == 1:\n",
    "        for i in df['country_code'].unique():\n",
    "            df_aux01 = df.loc[ ( df['country_code'] == i ), [ 'city' ] ]\n",
    "            v01 = len( df_aux01[ 'city' ].unique() )\n",
    "\n",
    "            vList01.append( country_name( i ) )\n",
    "            vList02.append( v01 )\n",
    "            data = { 'countries': vList01,\n",
    "                     'num_cities' : vList02 }\n",
    "\n",
    "            df_return = pd.DataFrame( data )\n",
    "\n",
    "            if v01 > v02:\n",
    "                v02 = v01\n",
    "                vMaiorPais = i\n",
    "\n",
    "        if tp_calc == 'grafico':\n",
    "            return df_return\n",
    "        \n",
    "        elif tp_calc == 'maior':\n",
    "            return country_name( vMaiorPais )\n",
    "\n",
    "    # Quantidade de restaurantes registrados por pais    \n",
    "    elif flag == 2:\n",
    "        for i in df['country_name'].unique():\n",
    "            df_aux01 = df.loc[ ( df['country_name'] == i ), [ 'restaurant_id' ] ]\n",
    "            v01 = len( df_aux01[ 'restaurant_id' ].unique() )\n",
    "\n",
    "            vList01.append( i )\n",
    "            vList02.append( v01 )\n",
    "\n",
    "            data = { 'countries': vList01,\n",
    "                     'num_restaurants' : vList02 }\n",
    "\n",
    "            data = pd.DataFrame( data )\n",
    "\n",
    "            if v01 > v02:\n",
    "                v02 = v01\n",
    "                vMaiorPais = i\n",
    "\n",
    "        if tp_calc == 'grafico':\n",
    "\n",
    "            data.columns = [ 'Países', 'Quantidade de Restaurantes' ]\n",
    "            fig = go.Figure()\n",
    "            fig = ( px.bar(data,\n",
    "                         text='Quantidade de Restaurantes',\n",
    "                        x='Países', y='Quantidade de Restaurantes').update_traces( marker_color='#66b3ff' )\n",
    "                                                                    .update_layout( plot_bgcolor='white' )\n",
    "                                                                    .update_xaxes( mirror=True,\n",
    "                                                                                    ticks='outside',\n",
    "                                                                                    showline=True,\n",
    "                                                                                    linecolor='black',\n",
    "                                                                                    gridcolor='lightgrey' )\n",
    "                                                                    .update_yaxes( mirror=True,\n",
    "                                                                                    ticks='outside',\n",
    "                                                                                    showline=True,\n",
    "                                                                                    linecolor='black',\n",
    "                                                                                    gridcolor='lightgrey')\n",
    "                                                                    )\n",
    "            return fig\n",
    "        \n",
    "        elif tp_calc == 'maior':\n",
    "            return vMaiorPais\n",
    "\n",
    "    # Quantidade de restaurantes com nivel de preço igual a 4 (gourmet)    \n",
    "    elif flag == 3:\n",
    "        for i in df['country_code'].unique():\n",
    "            df_aux01 = df.loc[ ( ( df['country_code'] == i) & ( df[ 'price_range' ] == 4 ) ), [ 'restaurant_id' ] ]\n",
    "            v01 = len( df_aux01[ 'restaurant_id' ].unique() )\n",
    "\n",
    "            vList01.append( country_name( i ) )\n",
    "            vList02.append( v01 )\n",
    "\n",
    "            data = { 'countries': vList01,\n",
    "                     'num_restaurants' : vList02 }\n",
    "\n",
    "            df_return = pd.DataFrame( data )\n",
    "\n",
    "            if v01 > v02:\n",
    "                v02 = v01\n",
    "                vMaiorPais = i\n",
    "\n",
    "        if tp_calc == 'grafico':\n",
    "            return df_return\n",
    "        \n",
    "        elif tp_calc == 'maior':\n",
    "            return country_name( vMaiorPais )\n",
    "    \n",
    "    # Quantidade de culinarias unicas\n",
    "    if flag == 4:\n",
    "        for i in df['country_code'].unique():\n",
    "            df_aux01 = df.loc[ ( df['country_code'] == i ), [ 'cuisines' ] ]\n",
    "            v01 = len( df_aux01[ 'cuisines' ].unique() )\n",
    "\n",
    "            vList01.append( country_name( i ) )\n",
    "            vList02.append( v01 )\n",
    "            data = { 'countries': vList01,\n",
    "                     'num_cuisines' : vList02 }\n",
    "\n",
    "            df_return = pd.DataFrame( data )\n",
    "\n",
    "            if v01 > v02:\n",
    "                v02 = v01\n",
    "                vMaiorPais = i\n",
    "\n",
    "        if tp_calc == 'grafico':\n",
    "            return df_return\n",
    "        \n",
    "        elif tp_calc == 'maior':\n",
    "            return country_name( vMaiorPais )\n",
    "        \n",
    "    # Soma de avaliações por país\n",
    "    if flag == 5:\n",
    "        for i in df['country_code'].unique():\n",
    "            df_aux01 = df.loc[ ( df['country_code'] == i ), [ 'votes' ] ]\n",
    "            v01 = df_aux01[ 'votes' ].sum()\n",
    "\n",
    "            vList01.append( country_name( i ) )\n",
    "            vList02.append( v01 )\n",
    "            data = { 'countries': vList01,\n",
    "                     'qt_votes' : vList02 }\n",
    "\n",
    "            df_return = pd.DataFrame( data )\n",
    "\n",
    "            if v01 > v02:\n",
    "                v02 = v01\n",
    "                vMaiorPais = i\n",
    "\n",
    "        if tp_calc == 'grafico':\n",
    "            return df_return\n",
    "        \n",
    "        elif tp_calc == 'maior':\n",
    "            return country_name( vMaiorPais )\n",
    "        \n",
    "    # Quantidade de restaurantes que fazem entrega\n",
    "    if flag == 6:\n",
    "        for i in df['country_code'].unique():\n",
    "            df_aux01 = df.loc[ ( ( df['country_code'] == i) & ( df[ 'is_delivering_now' ] == 1 ) ), : ]\n",
    "            v01 = len( df_aux01 )\n",
    "\n",
    "            vList01.append( country_name( i ) )\n",
    "            vList02.append( v01 )\n",
    "            data = { 'countries': vList01,\n",
    "                     'qt_delivery' : vList02 }\n",
    "\n",
    "            df_return = pd.DataFrame( data )\n",
    "\n",
    "            if v01 > v02:\n",
    "                v02 = v01\n",
    "                vMaiorPais = i\n",
    "\n",
    "        if tp_calc == 'grafico':\n",
    "            return df_return\n",
    "        \n",
    "        elif tp_calc == 'maior':\n",
    "            return country_name( vMaiorPais )\n",
    "        \n",
    "    # Quantidade de restaurantes que aceitam reservas\n",
    "    if flag == 7:\n",
    "        for i in df['country_code'].unique():\n",
    "            df_aux01 = df.loc[ ( ( df['country_code'] == i) & ( df[ 'has_table_booking' ] == 1 ) ), : ]\n",
    "            v01 = len( df_aux01 )\n",
    "\n",
    "            vList01.append( country_name( i ) )\n",
    "            vList02.append( v01 )\n",
    "            data = { 'countries': vList01,\n",
    "                     'qt_booking' : vList02 }\n",
    "\n",
    "            df_return = pd.DataFrame( data )\n",
    "\n",
    "            if v01 > v02:\n",
    "                v02 = v01\n",
    "                vMaiorPais = i\n",
    "\n",
    "        if tp_calc == 'grafico':\n",
    "            return df_return\n",
    "        \n",
    "        elif tp_calc == 'maior':\n",
    "            return country_name( vMaiorPais )"
   ]
  },
  {
   "attachments": {},
   "cell_type": "markdown",
   "metadata": {},
   "source": [
    "### Limpezas"
   ]
  },
  {
   "cell_type": "code",
   "execution_count": null,
   "metadata": {},
   "outputs": [],
   "source": [
    "# 1. Renomeando as colunas\n",
    "df = rename_columns( df )\n",
    "\n",
    "# 2. Removenco as linhas em branco\n",
    "# cuisines\n",
    "df.dropna( subset=[ 'cuisines' ], inplace=True )\n",
    "\n",
    "# 3. Criando a coluna cuisine_category\n",
    "\n",
    "# 4. Criando a coluna country_name\n",
    "df[ 'country_name' ] = df[ 'country_code' ].apply( lambda x: country_name( x ) )\n",
    "\n",
    "# 5. Categorizando os restaurantes para somente um tipo de culinária(cuisines)\n",
    "df['cuisines'] = df['cuisines'].astype(str)\n",
    "df['cuisines'] = df.loc[ :, 'cuisines' ].apply( lambda x: x.split( ',' )[0] )\n",
    "\n",
    "# 6. Removendo Cuisines do tipo Mineira e Drinks Only\n",
    "df = df.loc[( df['cuisines'] != 'Drinks Only') & ( df['cuisines'] != 'Mineira' ) & ( df['cuisines'] != 'NaN' ), : ]\n",
    "\n",
    "# 7. Removendo linhas duplicadas\n",
    "df = df.drop_duplicates()"
   ]
  },
  {
   "attachments": {},
   "cell_type": "markdown",
   "metadata": {},
   "source": [
    "## Respostas das perguntas de negócio"
   ]
  },
  {
   "attachments": {},
   "cell_type": "markdown",
   "metadata": {},
   "source": [
    "### Geral"
   ]
  },
  {
   "attachments": {},
   "cell_type": "markdown",
   "metadata": {},
   "source": [
    "##### 1. Quantos restaurantes únicos estão registrados?"
   ]
  },
  {
   "cell_type": "code",
   "execution_count": null,
   "metadata": {},
   "outputs": [],
   "source": [
    "vRestUnique = df[ 'restaurant_id' ].nunique()\n",
    "vRestUnique"
   ]
  },
  {
   "attachments": {},
   "cell_type": "markdown",
   "metadata": {},
   "source": [
    "##### 2. Quantos países únicos estão registrados?"
   ]
  },
  {
   "cell_type": "code",
   "execution_count": null,
   "metadata": {},
   "outputs": [],
   "source": [
    "vCountryUnique = df[ 'country_code' ].nunique()\n",
    "vCountryUnique"
   ]
  },
  {
   "attachments": {},
   "cell_type": "markdown",
   "metadata": {},
   "source": [
    "#### 3. Quantas cidades únicas estão registradas?"
   ]
  },
  {
   "cell_type": "code",
   "execution_count": null,
   "metadata": {},
   "outputs": [],
   "source": [
    "vCityUnique = df[ 'city' ].nunique()\n",
    "vCityUnique"
   ]
  },
  {
   "attachments": {},
   "cell_type": "markdown",
   "metadata": {},
   "source": [
    "#### 4. Qual o total de avaliações feitas?"
   ]
  },
  {
   "cell_type": "code",
   "execution_count": null,
   "metadata": {},
   "outputs": [],
   "source": [
    "vCountVote = df[ 'votes' ].sum()\n",
    "vCountVote = '{:_}'.format( df[ 'votes' ].sum() ).replace( '.', '.' ).replace( '_', '.' )\n",
    "vCountVote "
   ]
  },
  {
   "attachments": {},
   "cell_type": "markdown",
   "metadata": {},
   "source": [
    "#### 5. Qual o total de tipos de culinária registrados?"
   ]
  },
  {
   "cell_type": "code",
   "execution_count": null,
   "metadata": {},
   "outputs": [],
   "source": [
    "vTotalCuisines = fnc_tot_tp_culinaria( df )\n",
    "vTotalCuisines"
   ]
  },
  {
   "attachments": {},
   "cell_type": "markdown",
   "metadata": {},
   "source": [
    "### País"
   ]
  },
  {
   "attachments": {},
   "cell_type": "markdown",
   "metadata": {},
   "source": [
    "##### 1. Qual o nome do país que possui mais cidades registradas?"
   ]
  },
  {
   "cell_type": "code",
   "execution_count": null,
   "metadata": {},
   "outputs": [],
   "source": [
    "print( fnc_calc_per_country( 1, 'maior', df ) )\n",
    "print( fnc_calc_per_country( 1, 'grafico', df ) )"
   ]
  },
  {
   "attachments": {},
   "cell_type": "markdown",
   "metadata": {},
   "source": [
    "##### 2. Qual o nome do país que possui mais restaurantes registrados?"
   ]
  },
  {
   "cell_type": "code",
   "execution_count": null,
   "metadata": {},
   "outputs": [],
   "source": [
    "print( fnc_calc_per_country( 2, 'maior', df ) )\n",
    "print( fnc_calc_per_country( 2, 'grafico', df ) )"
   ]
  },
  {
   "attachments": {},
   "cell_type": "markdown",
   "metadata": {},
   "source": [
    "##### 3. Qual o nome do país que possui mais restaurantes com o nível de preço igual a 4 registrados?"
   ]
  },
  {
   "cell_type": "code",
   "execution_count": null,
   "metadata": {},
   "outputs": [],
   "source": [
    "print( fnc_calc_per_country( 3, 'maior', df ) )\n",
    "print( fnc_calc_per_country( 3, 'grafico', df ) )"
   ]
  },
  {
   "attachments": {},
   "cell_type": "markdown",
   "metadata": {},
   "source": [
    "##### 4. Qual o nome do país que possui a maior quantidade de tipos de culinária distintos?"
   ]
  },
  {
   "cell_type": "code",
   "execution_count": null,
   "metadata": {},
   "outputs": [],
   "source": [
    "print( fnc_calc_per_country( 4, 'maior', df ) )\n",
    "print( fnc_calc_per_country( 4, 'grafico', df ) )"
   ]
  },
  {
   "attachments": {},
   "cell_type": "markdown",
   "metadata": {},
   "source": [
    "##### 5. Qual o nome do país que possui a maior quantidade de avaliações feitas?"
   ]
  },
  {
   "cell_type": "code",
   "execution_count": null,
   "metadata": {},
   "outputs": [],
   "source": [
    "print( fnc_calc_per_country( 5, 'maior', df ) )\n",
    "print( fnc_calc_per_country( 5, 'grafico', df ) )"
   ]
  },
  {
   "attachments": {},
   "cell_type": "markdown",
   "metadata": {},
   "source": [
    "##### 6. Qual o nome do país que possui a maior quantidade de restaurantes que fazem entrega?"
   ]
  },
  {
   "cell_type": "code",
   "execution_count": null,
   "metadata": {},
   "outputs": [],
   "source": [
    "print( fnc_calc_per_country( 6, 'maior', df ) )\n",
    "print( fnc_calc_per_country( 6, 'grafico', df ) )"
   ]
  },
  {
   "attachments": {},
   "cell_type": "markdown",
   "metadata": {},
   "source": [
    "##### 7. Qual o nome do país que possui a maior quantidade de restaurantes que aceitam reservas?"
   ]
  },
  {
   "cell_type": "code",
   "execution_count": null,
   "metadata": {},
   "outputs": [],
   "source": [
    "print( fnc_calc_per_country( 7, 'maior', df ) )\n",
    "print( fnc_calc_per_country( 7, 'grafico', df ) )"
   ]
  },
  {
   "attachments": {},
   "cell_type": "markdown",
   "metadata": {},
   "source": [
    "##### 8. Qual o nome do país que possui, na média, a maior quantidade de avaliações registrada?"
   ]
  },
  {
   "cell_type": "code",
   "execution_count": null,
   "metadata": {},
   "outputs": [],
   "source": [
    "df_aux = df.loc[ :, [ 'votes', 'country_name' ] ].groupby( [ 'country_name' ] ).mean().sort_values( [ 'votes' ], ascending=False ).reset_index()\n",
    "\n",
    "df_aux['country_name'][0]"
   ]
  },
  {
   "attachments": {},
   "cell_type": "markdown",
   "metadata": {},
   "source": [
    "##### 9. Qual o nome do país que possui, na média, a maior nota média registrada?"
   ]
  },
  {
   "cell_type": "code",
   "execution_count": null,
   "metadata": {},
   "outputs": [],
   "source": [
    "df_aux = df.loc[ :, [ 'aggregate_rating', 'country_name' ] ].groupby( [ 'country_name' ] ).mean().sort_values( [ 'aggregate_rating' ], ascending=False ).reset_index()\n",
    "\n",
    "df_aux['country_name'][0]"
   ]
  },
  {
   "attachments": {},
   "cell_type": "markdown",
   "metadata": {},
   "source": [
    "##### 10. Qual o nome do país que possui, na média, a menor nota média registrada?"
   ]
  },
  {
   "cell_type": "code",
   "execution_count": null,
   "metadata": {},
   "outputs": [],
   "source": [
    "df_aux = df.loc[ :, [ 'aggregate_rating', 'country_name' ] ].groupby( [ 'country_name' ] ).mean().sort_values( [ 'aggregate_rating' ], ascending=True ).reset_index()\n",
    "\n",
    "# country_name( df_aux['country_code'][0] )\n",
    "df_aux['country_name'][0]"
   ]
  },
  {
   "attachments": {},
   "cell_type": "markdown",
   "metadata": {},
   "source": [
    "##### 11. Qual a média de preço de um prato para dois por país?"
   ]
  },
  {
   "cell_type": "code",
   "execution_count": null,
   "metadata": {},
   "outputs": [],
   "source": [
    "df.loc[ :, [ 'average_cost_for_two', 'country_name' ] ].groupby( [ 'country_name' ] ).mean().sort_values( 'average_cost_for_two', ascending=False ).reset_index()"
   ]
  },
  {
   "attachments": {},
   "cell_type": "markdown",
   "metadata": {},
   "source": [
    "### Cidade"
   ]
  },
  {
   "attachments": {},
   "cell_type": "markdown",
   "metadata": {},
   "source": [
    "##### 1. Qual o nome da cidade que possui mais restaurantes registrados?"
   ]
  },
  {
   "cell_type": "code",
   "execution_count": null,
   "metadata": {},
   "outputs": [],
   "source": [
    "df_aux = df.loc[ :, [ 'restaurant_id', 'city', 'country_name' ] ].groupby( [ 'city', 'country_name' ] ).count().sort_values( ['restaurant_id'], ascending = False ).reset_index().head(10)\n",
    "df_aux.columns = [ 'Cidade', 'País', 'Quantidade de Restaurantes' ]\n",
    "df_aux"
   ]
  },
  {
   "cell_type": "code",
   "execution_count": null,
   "metadata": {},
   "outputs": [],
   "source": [
    "df_aux = df.loc[ :, [ 'restaurant_id', 'city' ] ].groupby( [ 'city' ] ).count().sort_values( ['restaurant_id'], ascending = False ).reset_index().head(10)\n",
    "df_aux['city'][0]\n",
    "\n",
    "df_aux"
   ]
  },
  {
   "attachments": {},
   "cell_type": "markdown",
   "metadata": {},
   "source": [
    "##### 2. Qual o nome da cidade que possui mais restaurantes com nota média acima de 4?"
   ]
  },
  {
   "cell_type": "code",
   "execution_count": null,
   "metadata": {},
   "outputs": [],
   "source": [
    "df.loc[ ( df[ 'aggregate_rating' ] > 4 ), [ 'restaurant', 'city' ] ].groupby( [ 'city' ] ).count().sort_values( [ 'restaurant' ], ascending=False ).reset_index().head(1)\n",
    "df_aux['city'][0]"
   ]
  },
  {
   "attachments": {},
   "cell_type": "markdown",
   "metadata": {},
   "source": [
    "##### 3. Qual o nome da cidade que possui mais restaurantes com nota média abaixo de 2.5?"
   ]
  },
  {
   "cell_type": "code",
   "execution_count": null,
   "metadata": {},
   "outputs": [],
   "source": [
    "df_aux = df.loc[ ( df[ 'aggregate_rating' ] < 2.5 ), [ 'restaurant', 'city' ] ].groupby( [ 'city' ] ).count().sort_values( [ 'restaurant' ], ascending=False ).reset_index().head(1)\n",
    "df_aux['city'][0]"
   ]
  },
  {
   "attachments": {},
   "cell_type": "markdown",
   "metadata": {},
   "source": [
    "##### 4. Qual o nome da cidade que possui o maior valor médio de um prato para dois?"
   ]
  },
  {
   "cell_type": "code",
   "execution_count": null,
   "metadata": {},
   "outputs": [],
   "source": [
    "df_aux = df.loc[ :, [ 'average_cost_for_two', 'city' ] ].groupby( [ 'city' ] ).mean().sort_values( [ 'average_cost_for_two' ], ascending=False ).reset_index().head(1)\n",
    "df_aux['city'][0]"
   ]
  },
  {
   "attachments": {},
   "cell_type": "markdown",
   "metadata": {},
   "source": [
    "##### 5. Qual o nome da cidade que possui a maior quantidade de tipos de culinária distintas?"
   ]
  },
  {
   "cell_type": "code",
   "execution_count": null,
   "metadata": {},
   "outputs": [],
   "source": [
    "df_aux01 = df.loc[ :, ['country_name', 'city', 'cuisines']]\n",
    "df_aux01 = df_aux01.groupby( ['country_name', 'city'] ).nunique().sort_values( ['country_name', 'cuisines'], ascending=False ).reset_index()\n",
    "df_aux01"
   ]
  },
  {
   "attachments": {},
   "cell_type": "markdown",
   "metadata": {},
   "source": [
    "##### 6. Qual o nome da cidade que possui a maior quantidade de restaurantes que fazem reservas?"
   ]
  },
  {
   "cell_type": "code",
   "execution_count": null,
   "metadata": {},
   "outputs": [],
   "source": [
    "df_aux = df.loc[ ( df[ 'has_table_booking' ] == 1 ), [ 'restaurant_id', 'city' ] ].groupby( [ 'city' ] ).count().sort_values( [ 'restaurant_id' ], ascending=False ).reset_index().head(1)\n",
    "df_aux[ 'city' ][0]"
   ]
  },
  {
   "attachments": {},
   "cell_type": "markdown",
   "metadata": {},
   "source": [
    "##### 7. Qual o nome da cidade que possui a maior quantidade de restaurantes que fazem entregas?"
   ]
  },
  {
   "cell_type": "code",
   "execution_count": null,
   "metadata": {},
   "outputs": [],
   "source": [
    "df_aux = df.loc[ ( df[ 'is_delivering_now' ] == 1 ), [ 'restaurant_id', 'city' ] ].groupby( [ 'city' ] ).count().sort_values( [ 'restaurant_id' ], ascending=False ).reset_index().head(1)\n",
    "df_aux[ 'city' ][0]"
   ]
  },
  {
   "attachments": {},
   "cell_type": "markdown",
   "metadata": {},
   "source": [
    "##### 8. Qual o nome da cidade que possui a maior quantidade de restaurantes que aceitam pedidos online?"
   ]
  },
  {
   "cell_type": "code",
   "execution_count": null,
   "metadata": {},
   "outputs": [],
   "source": [
    "df_aux = df.loc[ ( df[ 'has_online_delivery' ] == 1 ), [ 'restaurant_id', 'city' ] ].groupby( [ 'city' ] ).count().sort_values( [ 'restaurant_id' ], ascending=False ).reset_index().head(1)\n",
    "df_aux[ 'city' ][0]"
   ]
  },
  {
   "attachments": {},
   "cell_type": "markdown",
   "metadata": {},
   "source": [
    "### Restaurantes"
   ]
  },
  {
   "attachments": {},
   "cell_type": "markdown",
   "metadata": {},
   "source": [
    "##### 1. Qual o nome do restaurante que possui a maior quantidade de avaliações?"
   ]
  },
  {
   "cell_type": "code",
   "execution_count": null,
   "metadata": {},
   "outputs": [],
   "source": [
    "df_aux = df.loc[ :, [ 'votes', 'restaurant_name' ] ].groupby( [ 'restaurant_name' ] ).sum().sort_values( [ 'votes' ], ascending=False ).reset_index().head(1)\n",
    "df_aux[ 'restaurant_name' ][0]"
   ]
  },
  {
   "attachments": {},
   "cell_type": "markdown",
   "metadata": {},
   "source": [
    "##### 2. Qual o nome do restaurante com a maior nota média?"
   ]
  },
  {
   "cell_type": "code",
   "execution_count": null,
   "metadata": {},
   "outputs": [],
   "source": [
    "df_aux = df.loc[ :, [ 'aggregate_rating', 'restaurant_name' ] ].groupby( [ 'restaurant_name' ] ).mean().sort_values( [ 'aggregate_rating' ], ascending=False ).reset_index().head(1)\n",
    "df_aux[ 'restaurant_name' ][0]"
   ]
  },
  {
   "attachments": {},
   "cell_type": "markdown",
   "metadata": {},
   "source": [
    "##### 3. Qual o nome do restaurante que possui o maior valor de uma prato para duas pessoas?"
   ]
  },
  {
   "cell_type": "code",
   "execution_count": null,
   "metadata": {},
   "outputs": [],
   "source": [
    "df_aux = df.loc[ :, [ 'average_cost_for_two', 'restaurant_name' ] ].sort_values( [ 'average_cost_for_two' ], ascending=False ).reset_index().head(1)\n",
    "df_aux['restaurant_name'][0]"
   ]
  },
  {
   "attachments": {},
   "cell_type": "markdown",
   "metadata": {},
   "source": [
    "##### 4. Qual o nome do restaurante de tipo de culinária brasileira que possui a menor média de avaliação?\n"
   ]
  },
  {
   "cell_type": "code",
   "execution_count": null,
   "metadata": {},
   "outputs": [],
   "source": [
    "df_aux = (df.loc[ ( df[ 'cuisines' ] == 'Brazilian' ), [ 'aggregate_rating', 'restaurant_name' ] ].groupby( [ 'restaurant_name' ] )\n",
    "                                                                                                  .mean()\n",
    "                                                                                                  .sort_values( [ 'aggregate_rating' ] )\n",
    "                                                                                                  .reset_index()\n",
    "                                                                                                  .head(1) )\n",
    "df_aux[ 'restaurant_name' ][0]"
   ]
  },
  {
   "attachments": {},
   "cell_type": "markdown",
   "metadata": {},
   "source": [
    "##### 5. Qual o nome do restaurante de tipo de culinária brasileira, e que é do Brasil, que possui a maior média de avaliação?\n"
   ]
  },
  {
   "cell_type": "code",
   "execution_count": null,
   "metadata": {},
   "outputs": [],
   "source": [
    "df_aux = ( df.loc[ ( df[ 'cuisines' ] == 'Brazilian' ) & (( df[ 'country_name' ] == 'Brazil' )), [ 'aggregate_rating', 'restaurant_name' ] ].groupby( [ 'restaurant_name' ] )\n",
    "                                                                                                                                            .mean()\n",
    "                                                                                                                                            .sort_values( [ 'aggregate_rating' ], ascending=False )\n",
    "                                                                                                                                            .reset_index()\n",
    "                                                                                                                                            .head(1) )\n",
    "df_aux[ 'restaurant_name' ][0]"
   ]
  },
  {
   "attachments": {},
   "cell_type": "markdown",
   "metadata": {},
   "source": [
    "##### 6. Os restaurantes que aceitam pedido online são também, na média, os restaurantes que mais possuem avaliações registradas?\n"
   ]
  },
  {
   "cell_type": "code",
   "execution_count": null,
   "metadata": {},
   "outputs": [],
   "source": [
    "df_pedido_online = df.loc[ ( df[ 'has_online_delivery' ] == 1 ), [ 'restaurant_id', 'restaurant_name' ] ].sort_values( [ 'restaurant_id' ] ).reset_index()\n",
    "print( df_pedido_online )\n",
    "\n",
    "df_maior_media = ( df.loc[ :, [ 'votes', 'restaurant_name' ] ].groupby( [ 'restaurant_name' ] )\n",
    "                                                              .mean()\n",
    "                                                              .sort_values( [ 'votes' ], ascending=False )\n",
    "                                                              .reset_index() )\n",
    "print( df_maior_media )"
   ]
  },
  {
   "attachments": {},
   "cell_type": "markdown",
   "metadata": {},
   "source": [
    "##### 7. Os restaurantes que fazem reservas são também, na média, os restaurantes que possuem o maior valor médio de um prato para duas pessoas?\n"
   ]
  },
  {
   "cell_type": "code",
   "execution_count": null,
   "metadata": {},
   "outputs": [],
   "source": [
    "df_reserva = df.loc[ ( df[ 'has_table_booking' ] == 1 ), [ 'restaurant_id', 'restaurant_name' ] ].sort_values( [ 'restaurant_id' ] ).reset_index()\n",
    "print( df_reserva )\n",
    "\n",
    "df_maior_media = ( df.loc[ :, [ 'average_cost_for_two', 'restaurant_name' ] ].groupby( [ 'restaurant_name' ] )\n",
    "                                                                             .mean()\n",
    "                                                                             .sort_values( [ 'average_cost_for_two' ], ascending=False )\n",
    "                                                                             .reset_index() )\n",
    "print( df_maior_media )"
   ]
  },
  {
   "attachments": {},
   "cell_type": "markdown",
   "metadata": {},
   "source": [
    "##### 8. Os restaurantes do tipo de culinária japonesa dos Estados Unidos da América possuem um valor médio de prato para duas pessoas maior que as churrascarias americana (BBQ)?"
   ]
  },
  {
   "cell_type": "code",
   "execution_count": null,
   "metadata": {},
   "outputs": [],
   "source": [
    "df_japa_eua = ( df.loc[ ( df[ 'country_name' ] == 'United States of America' ) & ( df[ 'cuisines' ] == 'Japanese' ), [ 'average_cost_for_two', 'restaurant_name' ] ].groupby( [ 'restaurant_name' ] )\n",
    "                                                                                                                                                                    .mean()\n",
    "                                                                                                                                                                    .sort_values( [ 'average_cost_for_two' ], ascending=False )\n",
    "                                                                                                                                                                    .reset_index()\n",
    "                                                                                                                                                                    .head(10) )\n",
    "print( df_japa_eua )\n",
    "\n",
    "df_cost_bbq = ( df.loc[ ( df[ 'cuisines' ] == 'BBQ' ), [ 'average_cost_for_two', 'restaurant_name' ] ].groupby( [ 'restaurant_name' ] )\n",
    "                                                                                                      .mean()\n",
    "                                                                                                      .sort_values( [ 'average_cost_for_two' ], ascending=False )\n",
    "                                                                                                      .reset_index()\n",
    "                                                                                                      .head(10) )\n",
    "print( df_cost_bbq )"
   ]
  },
  {
   "attachments": {},
   "cell_type": "markdown",
   "metadata": {},
   "source": [
    "### Tipos de Culinária"
   ]
  },
  {
   "attachments": {},
   "cell_type": "markdown",
   "metadata": {},
   "source": [
    "##### 1. Dos restaurantes que possuem o tipo de culinária italiana, qual o nome do restaurante com a maior média de avaliação?\n"
   ]
  },
  {
   "cell_type": "code",
   "execution_count": null,
   "metadata": {},
   "outputs": [],
   "source": [
    "df_aux = ( df.loc[ ( df[ 'cuisines' ] == 'Italian' ), [ 'aggregate_rating', 'restaurant_name' ] ].groupby( [ 'restaurant_name' ] )\n",
    "                                                                                        .mean()\n",
    "                                                                                        .sort_values( [ 'aggregate_rating' ], ascending=False )\n",
    "                                                                                        .reset_index()\n",
    "                                                                                        .head(1) )\n",
    "df_aux[ 'restaurant_name' ][0]"
   ]
  },
  {
   "cell_type": "code",
   "execution_count": null,
   "metadata": {},
   "outputs": [],
   "source": [
    "df_aux = ( df.loc[ ( df[ 'cuisines' ] == 'Italian' ), [ 'aggregate_rating', 'restaurant_name', 'restaurant_id' ] ].groupby( [ 'restaurant_name', 'restaurant_id' ] )\n",
    "                                                                                                                    .mean()\n",
    "                                                                                                                    .sort_values( [ 'aggregate_rating', 'restaurant_id' ], ascending=[ False, True ] )\n",
    "                                                                                                                    .reset_index()\n",
    "                                                                                                                    .head(15) )\n",
    "df_aux"
   ]
  },
  {
   "attachments": {},
   "cell_type": "markdown",
   "metadata": {},
   "source": [
    "##### 2. Dos restaurantes que possuem o tipo de culinária italiana, qual o nome do restaurante com a menor média de avaliação?\n"
   ]
  },
  {
   "cell_type": "code",
   "execution_count": null,
   "metadata": {},
   "outputs": [],
   "source": [
    "df_aux = ( df.loc[ ( df[ 'cuisines' ] == 'Italian' ), [ 'aggregate_rating', 'restaurant_name' ] ].groupby( [ 'restaurant_name' ] )\n",
    "                                                                                        .mean()\n",
    "                                                                                        .sort_values( [ 'aggregate_rating' ] )\n",
    "                                                                                        .reset_index()\n",
    "                                                                                        .head(1) )\n",
    "df_aux[ 'restaurant_name' ][0]"
   ]
  },
  {
   "attachments": {},
   "cell_type": "markdown",
   "metadata": {},
   "source": [
    "##### 3. Dos restaurantes que possuem o tipo de culinária americana, qual o nome do restaurante com a maior média de avaliação?\n"
   ]
  },
  {
   "cell_type": "code",
   "execution_count": null,
   "metadata": {},
   "outputs": [],
   "source": [
    "df_aux = ( df.loc[ ( df[ 'cuisines' ] == 'American' ), [ 'aggregate_rating', 'restaurant_name', 'restaurant_id' ] ].groupby( [ 'restaurant_id', 'restaurant_name' ] )\n",
    "                                                                                                                   .mean()\n",
    "                                                                                                                   .sort_values( [ 'aggregate_rating', 'restaurant_id' ], ascending = [ False, True ] )\n",
    "                                                                                                                   .reset_index()\n",
    "                                                                                                                   .head(50) )\n",
    "df_aux[ 'restaurant_name' ][0]"
   ]
  },
  {
   "attachments": {},
   "cell_type": "markdown",
   "metadata": {},
   "source": [
    "##### 4. Dos restaurantes que possuem o tipo de culinária americana, qual o nome do restaurante com a menor média de avaliação?\n"
   ]
  },
  {
   "cell_type": "code",
   "execution_count": null,
   "metadata": {},
   "outputs": [],
   "source": [
    "df_aux = ( df.loc[ ( df[ 'cuisines' ] == 'American' ), [ 'aggregate_rating', 'restaurant_name', 'restaurant_id' ] ].groupby( [ 'restaurant_name', 'restaurant_id' ] )\n",
    "                                                                                                                   .mean()\n",
    "                                                                                                                   .sort_values( [ 'aggregate_rating', 'restaurant_id' ], ascending = True )\n",
    "                                                                                                                   .reset_index()\n",
    "                                                                                                                   .head(50) )\n",
    "df_aux[ 'restaurant_name' ][0]"
   ]
  },
  {
   "attachments": {},
   "cell_type": "markdown",
   "metadata": {},
   "source": [
    "##### 5. Dos restaurantes que possuem o tipo de culinária árabe, qual o nome do restaurante com a maior média de avaliação?\n"
   ]
  },
  {
   "cell_type": "code",
   "execution_count": null,
   "metadata": {},
   "outputs": [],
   "source": [
    "df_aux = ( df.loc[ ( df[ 'cuisines' ] == 'Arabian' ), [ 'aggregate_rating', 'restaurant_name', 'restaurant_id' ] ].groupby( [ 'restaurant_name', 'restaurant_id' ] )\n",
    "                                                                                                                  .mean()\n",
    "                                                                                                                  .sort_values( [ 'aggregate_rating', 'restaurant_id' ], ascending = [ False, True ] )\n",
    "                                                                                                                  .reset_index()\n",
    "                                                                                                                  .head(50) )\n",
    "df_aux[ 'restaurant_name' ][0]"
   ]
  },
  {
   "attachments": {},
   "cell_type": "markdown",
   "metadata": {},
   "source": [
    "##### 6. Dos restaurantes que possuem o tipo de culinária árabe, qual o nome do restaurante com a menor média de avaliação?\n"
   ]
  },
  {
   "cell_type": "code",
   "execution_count": null,
   "metadata": {},
   "outputs": [],
   "source": [
    "df_aux = ( df.loc[ ( df[ 'cuisines' ] == 'Arabian' ), [ 'aggregate_rating', 'restaurant_name', 'restaurant_id' ] ].groupby( [ 'restaurant_name', 'restaurant_id' ] )\n",
    "                                                                                                                  .mean()\n",
    "                                                                                                                  .sort_values( [ 'aggregate_rating', 'restaurant_id' ], ascending = True )\n",
    "                                                                                                                  .reset_index()\n",
    "                                                                                                                  .head(50) )\n",
    "df_aux[ 'restaurant_name' ][0]"
   ]
  },
  {
   "attachments": {},
   "cell_type": "markdown",
   "metadata": {},
   "source": [
    "##### 7. Dos restaurantes que possuem o tipo de culinária japonesa, qual o nome do restaurante com a maior média de avaliação?\n"
   ]
  },
  {
   "cell_type": "code",
   "execution_count": null,
   "metadata": {},
   "outputs": [],
   "source": [
    "df_aux = ( df.loc[ ( df[ 'cuisines' ] == 'Japanese' ), [ 'aggregate_rating', 'restaurant_name', 'restaurant_id' ] ].groupby( [ 'restaurant_name', 'restaurant_id' ] )\n",
    "                                                                                                                   .mean()\n",
    "                                                                                                                   .sort_values( [ 'aggregate_rating', 'restaurant_id' ], ascending = [ False, True ] )\n",
    "                                                                                                                   .reset_index()\n",
    "                                                                                                                   .head(50) )\n",
    "df_aux[ 'restaurant_name' ][0]"
   ]
  },
  {
   "attachments": {},
   "cell_type": "markdown",
   "metadata": {},
   "source": [
    "##### 8. Dos restaurantes que possuem o tipo de culinária japonesa, qual o nome do restaurante com a menor média de avaliação?\n"
   ]
  },
  {
   "cell_type": "code",
   "execution_count": null,
   "metadata": {},
   "outputs": [],
   "source": [
    "df_aux = ( df.loc[ ( df[ 'cuisines' ] == 'Japanese' ), [ 'aggregate_rating', 'restaurant_name', 'restaurant_id' ] ].groupby( [ 'restaurant_name', 'restaurant_id' ] )\n",
    "                                                                                                                   .mean()\n",
    "                                                                                                                   .sort_values( [ 'aggregate_rating', 'restaurant_id' ], ascending = True )\n",
    "                                                                                                                   .reset_index()\n",
    "                                                                                                                   .head(50) )\n",
    "df_aux[ 'restaurant_name' ][0]"
   ]
  },
  {
   "attachments": {},
   "cell_type": "markdown",
   "metadata": {},
   "source": [
    "##### 9. Dos restaurantes que possuem o tipo de culinária caseira, qual o nome do restaurante com a maior média de avaliação?\n"
   ]
  },
  {
   "cell_type": "code",
   "execution_count": null,
   "metadata": {},
   "outputs": [],
   "source": [
    "df_aux = ( df.loc[ ( df[ 'cuisines' ] == 'Home-made' ), [ 'aggregate_rating', 'restaurant_name', 'restaurant_id' ] ].groupby( [ 'restaurant_name', 'restaurant_id' ] )\n",
    "                                                                                                                   .mean()\n",
    "                                                                                                                   .sort_values( [ 'aggregate_rating', 'restaurant_id' ], ascending = [ False, True ] )\n",
    "                                                                                                                   .reset_index()\n",
    "                                                                                                                   .head(50) )\n",
    "df_aux[ 'restaurant_name' ][0]"
   ]
  },
  {
   "attachments": {},
   "cell_type": "markdown",
   "metadata": {},
   "source": [
    "##### 10. Dos restaurantes que possuem o tipo de culinária caseira, qual o nome do restaurante com a menor média de avaliação?\n"
   ]
  },
  {
   "cell_type": "code",
   "execution_count": null,
   "metadata": {},
   "outputs": [],
   "source": [
    "df_aux = ( df.loc[ ( df[ 'cuisines' ] == 'Home-made' ), [ 'aggregate_rating', 'restaurant_name', 'restaurant_id' ] ].groupby( [ 'restaurant_name', 'restaurant_id' ] )\n",
    "                                                                                                                   .mean()\n",
    "                                                                                                                   .sort_values( [ 'aggregate_rating', 'restaurant_id' ], ascending = True )\n",
    "                                                                                                                   .reset_index()\n",
    "                                                                                                                   .head(50) )\n",
    "df_aux[ 'restaurant_name' ][0]"
   ]
  },
  {
   "attachments": {},
   "cell_type": "markdown",
   "metadata": {},
   "source": [
    "##### 11. Qual o tipo de culinária que possui o maior valor médio de um prato para duas pessoas?\n"
   ]
  },
  {
   "cell_type": "code",
   "execution_count": null,
   "metadata": {},
   "outputs": [],
   "source": [
    "df_aux = ( df.loc[ :, [ 'average_cost_for_two', 'cuisines' ] ].groupby( [ 'cuisines' ] )\n",
    "                                                              .mean()\n",
    "                                                              .sort_values( [ 'average_cost_for_two' ], ascending=False )\n",
    "                                                              .reset_index() )\n",
    "\n",
    "df_aux[ 'cuisines' ][0]"
   ]
  },
  {
   "attachments": {},
   "cell_type": "markdown",
   "metadata": {},
   "source": [
    "##### 12. Qual o tipo de culinária que possui a maior nota média?\n"
   ]
  },
  {
   "cell_type": "code",
   "execution_count": null,
   "metadata": {},
   "outputs": [],
   "source": [
    "df_aux = ( df.loc[ :, [ 'aggregate_rating', 'cuisines' ] ].groupby( [ 'cuisines' ] )\n",
    "                                                          .mean()\n",
    "                                                          .sort_values( [ 'aggregate_rating' ], ascending=False )\n",
    "                                                          .reset_index() )\n",
    "\n",
    "df_aux[ 'cuisines' ][0]"
   ]
  },
  {
   "attachments": {},
   "cell_type": "markdown",
   "metadata": {},
   "source": [
    "##### 13. Qual o tipo de culinária que possui mais restaurantes que aceitam pedidos online e fazem entregas?"
   ]
  },
  {
   "cell_type": "code",
   "execution_count": null,
   "metadata": {},
   "outputs": [],
   "source": [
    "df_aux = ( df.loc[ ( df[ 'has_online_delivery' ] == 1 ) & ( df[ 'is_delivering_now' ] == 1 ), [ 'restaurant_id', 'cuisines' ] ].groupby( [ 'cuisines' ] )\n",
    "                                                                                                                               .count()\n",
    "                                                                                                                               .sort_values( [ 'restaurant_id' ], ascending=False )\n",
    "                                                                                                                               .reset_index() )\n",
    "\n",
    "df_aux[ 'cuisines' ][0]"
   ]
  }
 ],
 "metadata": {
  "kernelspec": {
   "display_name": "Python 3",
   "language": "python",
   "name": "python3"
  },
  "language_info": {
   "codemirror_mode": {
    "name": "ipython",
    "version": 3
   },
   "file_extension": ".py",
   "mimetype": "text/x-python",
   "name": "python",
   "nbconvert_exporter": "python",
   "pygments_lexer": "ipython3",
   "version": "3.11.2"
  },
  "orig_nbformat": 4
 },
 "nbformat": 4,
 "nbformat_minor": 2
}
