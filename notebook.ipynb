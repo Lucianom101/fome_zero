{
 "cells": [
  {
   "attachments": {},
   "cell_type": "markdown",
   "metadata": {},
   "source": [
    "## Bibliotecas"
   ]
  },
  {
   "cell_type": "code",
   "execution_count": 18,
   "metadata": {},
   "outputs": [],
   "source": [
    "# !pip install --trusted-host pypi.org --trusted-host pypi.python.org --trusted-host files.pythonhosted.org streamlit_folium"
   ]
  },
  {
   "cell_type": "code",
   "execution_count": 1,
   "metadata": {},
   "outputs": [
    {
     "name": "stderr",
     "output_type": "stream",
     "text": [
      "c:\\Users\\mluciano\\anaconda3\\envs\\myenv\\Lib\\site-packages\\tqdm\\auto.py:21: TqdmWarning: IProgress not found. Please update jupyter and ipywidgets. See https://ipywidgets.readthedocs.io/en/stable/user_install.html\n",
      "  from .autonotebook import tqdm as notebook_tqdm\n"
     ]
    }
   ],
   "source": [
    "# 1.Bibliotecas\n",
    "import pandas as pd\n",
    "import inflection\n",
    "import sweetviz as sv\n",
    "import numpy as np\n",
    "import folium\n",
    "import plotly.express as px\n",
    "import numpy as np\n",
    "import plotly.graph_objects as go\n",
    "from collections import namedtuple\n",
    "from folium.plugins import MarkerCluster\n"
   ]
  },
  {
   "cell_type": "code",
   "execution_count": 15,
   "metadata": {},
   "outputs": [
    {
     "ename": "KeyError",
     "evalue": "20",
     "output_type": "error",
     "traceback": [
      "\u001b[1;31m---------------------------------------------------------------------------\u001b[0m",
      "\u001b[1;31mKeyError\u001b[0m                                  Traceback (most recent call last)",
      "File \u001b[1;32mc:\\Users\\mluciano\\anaconda3\\envs\\myenv\\Lib\\site-packages\\pandas\\core\\indexes\\base.py:3652\u001b[0m, in \u001b[0;36mIndex.get_loc\u001b[1;34m(self, key)\u001b[0m\n\u001b[0;32m   3651\u001b[0m \u001b[39mtry\u001b[39;00m:\n\u001b[1;32m-> 3652\u001b[0m     \u001b[39mreturn\u001b[39;00m \u001b[39mself\u001b[39;49m\u001b[39m.\u001b[39;49m_engine\u001b[39m.\u001b[39;49mget_loc(casted_key)\n\u001b[0;32m   3653\u001b[0m \u001b[39mexcept\u001b[39;00m \u001b[39mKeyError\u001b[39;00m \u001b[39mas\u001b[39;00m err:\n",
      "File \u001b[1;32mc:\\Users\\mluciano\\anaconda3\\envs\\myenv\\Lib\\site-packages\\pandas\\_libs\\index.pyx:147\u001b[0m, in \u001b[0;36mpandas._libs.index.IndexEngine.get_loc\u001b[1;34m()\u001b[0m\n",
      "File \u001b[1;32mc:\\Users\\mluciano\\anaconda3\\envs\\myenv\\Lib\\site-packages\\pandas\\_libs\\index.pyx:176\u001b[0m, in \u001b[0;36mpandas._libs.index.IndexEngine.get_loc\u001b[1;34m()\u001b[0m\n",
      "File \u001b[1;32mpandas\\_libs\\hashtable_class_helper.pxi:7080\u001b[0m, in \u001b[0;36mpandas._libs.hashtable.PyObjectHashTable.get_item\u001b[1;34m()\u001b[0m\n",
      "File \u001b[1;32mpandas\\_libs\\hashtable_class_helper.pxi:7088\u001b[0m, in \u001b[0;36mpandas._libs.hashtable.PyObjectHashTable.get_item\u001b[1;34m()\u001b[0m\n",
      "\u001b[1;31mKeyError\u001b[0m: 20",
      "\nThe above exception was the direct cause of the following exception:\n",
      "\u001b[1;31mKeyError\u001b[0m                                  Traceback (most recent call last)",
      "Cell \u001b[1;32mIn[15], line 1\u001b[0m\n\u001b[1;32m----> 1\u001b[0m df[\u001b[39m20\u001b[39;49m]\n",
      "File \u001b[1;32mc:\\Users\\mluciano\\anaconda3\\envs\\myenv\\Lib\\site-packages\\pandas\\core\\frame.py:3761\u001b[0m, in \u001b[0;36mDataFrame.__getitem__\u001b[1;34m(self, key)\u001b[0m\n\u001b[0;32m   3759\u001b[0m \u001b[39mif\u001b[39;00m \u001b[39mself\u001b[39m\u001b[39m.\u001b[39mcolumns\u001b[39m.\u001b[39mnlevels \u001b[39m>\u001b[39m \u001b[39m1\u001b[39m:\n\u001b[0;32m   3760\u001b[0m     \u001b[39mreturn\u001b[39;00m \u001b[39mself\u001b[39m\u001b[39m.\u001b[39m_getitem_multilevel(key)\n\u001b[1;32m-> 3761\u001b[0m indexer \u001b[39m=\u001b[39m \u001b[39mself\u001b[39;49m\u001b[39m.\u001b[39;49mcolumns\u001b[39m.\u001b[39;49mget_loc(key)\n\u001b[0;32m   3762\u001b[0m \u001b[39mif\u001b[39;00m is_integer(indexer):\n\u001b[0;32m   3763\u001b[0m     indexer \u001b[39m=\u001b[39m [indexer]\n",
      "File \u001b[1;32mc:\\Users\\mluciano\\anaconda3\\envs\\myenv\\Lib\\site-packages\\pandas\\core\\indexes\\base.py:3654\u001b[0m, in \u001b[0;36mIndex.get_loc\u001b[1;34m(self, key)\u001b[0m\n\u001b[0;32m   3652\u001b[0m     \u001b[39mreturn\u001b[39;00m \u001b[39mself\u001b[39m\u001b[39m.\u001b[39m_engine\u001b[39m.\u001b[39mget_loc(casted_key)\n\u001b[0;32m   3653\u001b[0m \u001b[39mexcept\u001b[39;00m \u001b[39mKeyError\u001b[39;00m \u001b[39mas\u001b[39;00m err:\n\u001b[1;32m-> 3654\u001b[0m     \u001b[39mraise\u001b[39;00m \u001b[39mKeyError\u001b[39;00m(key) \u001b[39mfrom\u001b[39;00m \u001b[39merr\u001b[39;00m\n\u001b[0;32m   3655\u001b[0m \u001b[39mexcept\u001b[39;00m \u001b[39mTypeError\u001b[39;00m:\n\u001b[0;32m   3656\u001b[0m     \u001b[39m# If we have a listlike key, _check_indexing_error will raise\u001b[39;00m\n\u001b[0;32m   3657\u001b[0m     \u001b[39m#  InvalidIndexError. Otherwise we fall through and re-raise\u001b[39;00m\n\u001b[0;32m   3658\u001b[0m     \u001b[39m#  the TypeError.\u001b[39;00m\n\u001b[0;32m   3659\u001b[0m     \u001b[39mself\u001b[39m\u001b[39m.\u001b[39m_check_indexing_error(key)\n",
      "\u001b[1;31mKeyError\u001b[0m: 20"
     ]
    }
   ],
   "source": [
    "df[20]"
   ]
  },
  {
   "attachments": {},
   "cell_type": "markdown",
   "metadata": {},
   "source": [
    "## Importação da base de dados"
   ]
  },
  {
   "cell_type": "code",
   "execution_count": 4,
   "metadata": {},
   "outputs": [],
   "source": [
    "# 2. Importando a base de dados\n",
    "df = pd.read_csv('dataset/zomato.csv')\n",
    "df1 = pd.read_csv('dataset/zomato.csv')"
   ]
  },
  {
   "attachments": {},
   "cell_type": "markdown",
   "metadata": {},
   "source": [
    "## Limpezas e Funções"
   ]
  },
  {
   "attachments": {},
   "cell_type": "markdown",
   "metadata": {},
   "source": [
    "#### Funções"
   ]
  },
  {
   "cell_type": "code",
   "execution_count": 5,
   "metadata": {},
   "outputs": [
    {
     "data": {
      "text/plain": [
       "Index(['Restaurant ID', 'Restaurant Name', 'Country Code', 'City', 'Address',\n",
       "       'Locality', 'Locality Verbose', 'Longitude', 'Latitude', 'Cuisines',\n",
       "       'Average Cost for two', 'Currency', 'Has Table booking',\n",
       "       'Has Online delivery', 'Is delivering now', 'Switch to order menu',\n",
       "       'Price range', 'Aggregate rating', 'Rating color', 'Rating text',\n",
       "       'Votes'],\n",
       "      dtype='object')"
      ]
     },
     "execution_count": 5,
     "metadata": {},
     "output_type": "execute_result"
    }
   ],
   "source": [
    "df.columns"
   ]
  },
  {
   "cell_type": "code",
   "execution_count": 6,
   "metadata": {},
   "outputs": [],
   "source": [
    "# 3. Funções e dicionários\n",
    "\n",
    "# 3.1 Criação do nome das Cores\n",
    "COLORS = {\n",
    "\"3F7E00\": \"darkgreen\",\n",
    "\"5BA829\": \"green\",\n",
    "\"9ACD32\": \"lightgreen\",\n",
    "\"CDD614\": \"orange\",\n",
    "\"FFBA00\": \"red\",\n",
    "\"CBCBC8\": \"darkred\",\n",
    "\"FF7800\": \"darkred\",\n",
    "}\n",
    "\n",
    "def color_name(color_code):\n",
    "    return COLORS[color_code]\n",
    "\n",
    "# 3.2 Preenchimento do nome dos países\n",
    "COUNTRIES = {\n",
    "1: \"India\",\n",
    "14: \"Australia\",\n",
    "30: \"Brazil\",\n",
    "37: \"Canada\",\n",
    "94: \"Indonesia\",\n",
    "148: \"New Zeland\",\n",
    "162: \"Philippines\",\n",
    "166: \"Qatar\",\n",
    "184: \"Singapure\",\n",
    "189: \"South Africa\",\n",
    "191: \"Sri Lanka\",\n",
    "208: \"Turkey\",\n",
    "214: \"United Arab Emirates\",\n",
    "215: \"England\",\n",
    "216: \"United States of America\",\n",
    "}\n",
    "\n",
    "def country_name(country_id):\n",
    "    return COUNTRIES[country_id]\n",
    "\n",
    "# 3.3 Criação do Tipo de Categoria de Comida\n",
    "def create_price_tye(price_range):\n",
    "    if price_range == 1:\n",
    "        return \"cheap\"\n",
    "    elif price_range == 2:\n",
    "        return \"normal\"\n",
    "    elif price_range == 3:\n",
    "        return \"expensive\"\n",
    "    else:\n",
    "        return \"gourmet\"\n",
    "\n",
    "# 3.4 Renomear as colunas do DataFrame    \n",
    "def rename_columns(dataframe):\n",
    "    df = dataframe.copy()\n",
    "    title = lambda x: inflection.titleize(x)\n",
    "    snakecase = lambda x: inflection.underscore(x)\n",
    "    spaces = lambda x: x.replace(\" \", \"\")\n",
    "    cols_old = list(df.columns)\n",
    "    cols_old = list(map(title, cols_old))\n",
    "    cols_old = list(map(spaces, cols_old))\n",
    "    cols_new = list(map(snakecase, cols_old))\n",
    "    df.columns = cols_new\n",
    "\n",
    "    return df\n",
    "\n",
    "# 3.5 Total de tipos de culinárias disponíveis\n",
    "def fnc_tot_tp_culinaria( df ):\n",
    "    vListaCuisines = ( set( df['cuisines'] ) )\n",
    "    vListaTotalCuisine = []\n",
    "    \n",
    "    for vCuisine in vListaCuisines:\n",
    "        vTeste = vCuisine.split(',')\n",
    "        # print(vTeste)\n",
    "        for vPalavra in vTeste:\n",
    "            vPalavra = vPalavra.strip()\n",
    "            # print(vPalavra)\n",
    "            if vPalavra in vListaTotalCuisine:\n",
    "                None\n",
    "            \n",
    "            else:\n",
    "                vListaTotalCuisine.append( vPalavra )\n",
    "\n",
    "    df_aux = pd.DataFrame(vListaTotalCuisine)\n",
    "    \n",
    "    return df_aux.count()\n",
    "\n",
    "# 3.6 Calculos por país\n",
    "def fnc_calc_per_country( flag, tp_calc, df ):\n",
    "    v01 = 0\n",
    "    v02 = 0\n",
    "    vList01 = []\n",
    "    vList02 = []\n",
    "\n",
    "    # Quantidade de cidades registradas por pais\n",
    "    if flag == 1:\n",
    "        for i in df['country_code'].unique():\n",
    "            df_aux01 = df.loc[ ( df['country_code'] == i ), [ 'city' ] ]\n",
    "            v01 = len( df_aux01[ 'city' ].unique() )\n",
    "\n",
    "            vList01.append( country_name( i ) )\n",
    "            vList02.append( v01 )\n",
    "            data = { 'countries': vList01,\n",
    "                     'num_cities' : vList02 }\n",
    "\n",
    "            df_return = pd.DataFrame( data )\n",
    "\n",
    "            if v01 > v02:\n",
    "                v02 = v01\n",
    "                vMaiorPais = i\n",
    "\n",
    "        if tp_calc == 'grafico':\n",
    "            return df_return\n",
    "        \n",
    "        elif tp_calc == 'maior':\n",
    "            return country_name( vMaiorPais )\n",
    "\n",
    "    # Quantidade de restaurantes registrados por pais    \n",
    "    elif flag == 2:\n",
    "        for i in df['country_name'].unique():\n",
    "            df_aux01 = df.loc[ ( df['country_name'] == i ), [ 'restaurant_id' ] ]\n",
    "            v01 = len( df_aux01[ 'restaurant_id' ].unique() )\n",
    "\n",
    "            vList01.append( i )\n",
    "            vList02.append( v01 )\n",
    "\n",
    "            data = { 'countries': vList01,\n",
    "                     'num_restaurants' : vList02 }\n",
    "\n",
    "            data = pd.DataFrame( data )\n",
    "\n",
    "            if v01 > v02:\n",
    "                v02 = v01\n",
    "                vMaiorPais = i\n",
    "\n",
    "        if tp_calc == 'grafico':\n",
    "\n",
    "            data.columns = [ 'Países', 'Quantidade de Restaurantes' ]\n",
    "            fig = go.Figure()\n",
    "            fig = ( px.bar(data,\n",
    "                         text='Quantidade de Restaurantes',\n",
    "                        x='Países', y='Quantidade de Restaurantes').update_traces( marker_color='#66b3ff' )\n",
    "                                                                    .update_layout( plot_bgcolor='white' )\n",
    "                                                                    .update_xaxes( mirror=True,\n",
    "                                                                                    ticks='outside',\n",
    "                                                                                    showline=True,\n",
    "                                                                                    linecolor='black',\n",
    "                                                                                    gridcolor='lightgrey' )\n",
    "                                                                    .update_yaxes( mirror=True,\n",
    "                                                                                    ticks='outside',\n",
    "                                                                                    showline=True,\n",
    "                                                                                    linecolor='black',\n",
    "                                                                                    gridcolor='lightgrey')\n",
    "                                                                    )\n",
    "            return fig\n",
    "        \n",
    "        elif tp_calc == 'maior':\n",
    "            return vMaiorPais\n",
    "\n",
    "    # Quantidade de restaurantes com nivel de preço igual a 4 (gourmet)    \n",
    "    elif flag == 3:\n",
    "        for i in df['country_code'].unique():\n",
    "            df_aux01 = df.loc[ ( ( df['country_code'] == i) & ( df[ 'price_range' ] == 4 ) ), [ 'restaurant_id' ] ]\n",
    "            v01 = len( df_aux01[ 'restaurant_id' ].unique() )\n",
    "\n",
    "            vList01.append( country_name( i ) )\n",
    "            vList02.append( v01 )\n",
    "\n",
    "            data = { 'countries': vList01,\n",
    "                     'num_restaurants' : vList02 }\n",
    "\n",
    "            df_return = pd.DataFrame( data )\n",
    "\n",
    "            if v01 > v02:\n",
    "                v02 = v01\n",
    "                vMaiorPais = i\n",
    "\n",
    "        if tp_calc == 'grafico':\n",
    "            return df_return\n",
    "        \n",
    "        elif tp_calc == 'maior':\n",
    "            return country_name( vMaiorPais )\n",
    "    \n",
    "    # Quantidade de culinarias unicas\n",
    "    if flag == 4:\n",
    "        for i in df['country_code'].unique():\n",
    "            df_aux01 = df.loc[ ( df['country_code'] == i ), [ 'cuisines' ] ]\n",
    "            v01 = len( df_aux01[ 'cuisines' ].unique() )\n",
    "\n",
    "            vList01.append( country_name( i ) )\n",
    "            vList02.append( v01 )\n",
    "            data = { 'countries': vList01,\n",
    "                     'num_cuisines' : vList02 }\n",
    "\n",
    "            df_return = pd.DataFrame( data )\n",
    "\n",
    "            if v01 > v02:\n",
    "                v02 = v01\n",
    "                vMaiorPais = i\n",
    "\n",
    "        if tp_calc == 'grafico':\n",
    "            return df_return\n",
    "        \n",
    "        elif tp_calc == 'maior':\n",
    "            return country_name( vMaiorPais )\n",
    "        \n",
    "    # Soma de avaliações por país\n",
    "    if flag == 5:\n",
    "        for i in df['country_code'].unique():\n",
    "            df_aux01 = df.loc[ ( df['country_code'] == i ), [ 'votes' ] ]\n",
    "            v01 = df_aux01[ 'votes' ].sum()\n",
    "\n",
    "            vList01.append( country_name( i ) )\n",
    "            vList02.append( v01 )\n",
    "            data = { 'countries': vList01,\n",
    "                     'qt_votes' : vList02 }\n",
    "\n",
    "            df_return = pd.DataFrame( data )\n",
    "\n",
    "            if v01 > v02:\n",
    "                v02 = v01\n",
    "                vMaiorPais = i\n",
    "\n",
    "        if tp_calc == 'grafico':\n",
    "            return df_return\n",
    "        \n",
    "        elif tp_calc == 'maior':\n",
    "            return country_name( vMaiorPais )\n",
    "        \n",
    "    # Quantidade de restaurantes que fazem entrega\n",
    "    if flag == 6:\n",
    "        for i in df['country_code'].unique():\n",
    "            df_aux01 = df.loc[ ( ( df['country_code'] == i) & ( df[ 'is_delivering_now' ] == 1 ) ), : ]\n",
    "            v01 = len( df_aux01 )\n",
    "\n",
    "            vList01.append( country_name( i ) )\n",
    "            vList02.append( v01 )\n",
    "            data = { 'countries': vList01,\n",
    "                     'qt_delivery' : vList02 }\n",
    "\n",
    "            df_return = pd.DataFrame( data )\n",
    "\n",
    "            if v01 > v02:\n",
    "                v02 = v01\n",
    "                vMaiorPais = i\n",
    "\n",
    "        if tp_calc == 'grafico':\n",
    "            return df_return\n",
    "        \n",
    "        elif tp_calc == 'maior':\n",
    "            return country_name( vMaiorPais )\n",
    "        \n",
    "    # Quantidade de restaurantes que aceitam reservas\n",
    "    if flag == 7:\n",
    "        for i in df['country_code'].unique():\n",
    "            df_aux01 = df.loc[ ( ( df['country_code'] == i) & ( df[ 'has_table_booking' ] == 1 ) ), : ]\n",
    "            v01 = len( df_aux01 )\n",
    "\n",
    "            vList01.append( country_name( i ) )\n",
    "            vList02.append( v01 )\n",
    "            data = { 'countries': vList01,\n",
    "                     'qt_booking' : vList02 }\n",
    "\n",
    "            df_return = pd.DataFrame( data )\n",
    "\n",
    "            if v01 > v02:\n",
    "                v02 = v01\n",
    "                vMaiorPais = i\n",
    "\n",
    "        if tp_calc == 'grafico':\n",
    "            return df_return\n",
    "        \n",
    "        elif tp_calc == 'maior':\n",
    "            return country_name( vMaiorPais )"
   ]
  },
  {
   "attachments": {},
   "cell_type": "markdown",
   "metadata": {},
   "source": [
    "### Limpezas"
   ]
  },
  {
   "cell_type": "code",
   "execution_count": 7,
   "metadata": {},
   "outputs": [],
   "source": [
    "# 1. Renomeando as colunas\n",
    "df = rename_columns( df )\n",
    "\n",
    "# 2. Removenco as linhas em branco\n",
    "# cuisines\n",
    "df.dropna( subset=[ 'cuisines' ], inplace=True )\n",
    "\n",
    "# 3. Criando a coluna cuisine_category\n",
    "\n",
    "# 4. Criando a coluna country_name\n",
    "df[ 'country_name' ] = df[ 'country_code' ].apply( lambda x: country_name( x ) )\n",
    "\n",
    "# 5. Categorizando os restaurantes para somente um tipo de culinária(cuisines)\n",
    "df['cuisines'] = df['cuisines'].astype(str)\n",
    "df['cuisines'] = df.loc[ :, 'cuisines' ].apply( lambda x: x.split( ',' )[0] )\n",
    "\n",
    "# 6. Removendo Cuisines do tipo Mineira e Drinks Only\n",
    "df = df.loc[( df['cuisines'] != 'Drinks Only') & ( df['cuisines'] != 'Mineira' ) & ( df['cuisines'] != 'NaN' ), : ]\n",
    "\n",
    "# 7. Removendo linhas duplicadas\n",
    "df = df.drop_duplicates()"
   ]
  },
  {
   "cell_type": "code",
   "execution_count": 15,
   "metadata": {},
   "outputs": [
    {
     "data": {
      "text/plain": [
       "array(['Philippines', 'Brazil', 'Australia', 'United States of America',\n",
       "       'Canada', 'Singapure', 'United Arab Emirates', 'India',\n",
       "       'Indonesia', 'New Zeland', 'England', 'Qatar', 'South Africa',\n",
       "       'Sri Lanka', 'Turkey'], dtype=object)"
      ]
     },
     "execution_count": 15,
     "metadata": {},
     "output_type": "execute_result"
    }
   ],
   "source": [
    "vRestUnique = df[ 'country_name' ].unique()\n",
    "vRestUnique"
   ]
  },
  {
   "attachments": {},
   "cell_type": "markdown",
   "metadata": {},
   "source": [
    "## Respostas das perguntas de negócio"
   ]
  },
  {
   "attachments": {},
   "cell_type": "markdown",
   "metadata": {},
   "source": [
    "### Geral"
   ]
  },
  {
   "attachments": {},
   "cell_type": "markdown",
   "metadata": {},
   "source": [
    "##### 1. Quantos restaurantes únicos estão registrados?"
   ]
  },
  {
   "cell_type": "code",
   "execution_count": 239,
   "metadata": {},
   "outputs": [
    {
     "data": {
      "text/plain": [
       "6927"
      ]
     },
     "execution_count": 239,
     "metadata": {},
     "output_type": "execute_result"
    }
   ],
   "source": [
    "vRestUnique = df[ 'restaurant_id' ].nunique()\n",
    "vRestUnique"
   ]
  },
  {
   "attachments": {},
   "cell_type": "markdown",
   "metadata": {},
   "source": [
    "##### 2. Quantos países únicos estão registrados?"
   ]
  },
  {
   "cell_type": "code",
   "execution_count": 240,
   "metadata": {},
   "outputs": [
    {
     "data": {
      "text/plain": [
       "15"
      ]
     },
     "execution_count": 240,
     "metadata": {},
     "output_type": "execute_result"
    }
   ],
   "source": [
    "vCountryUnique = df[ 'country_code' ].nunique()\n",
    "vCountryUnique"
   ]
  },
  {
   "attachments": {},
   "cell_type": "markdown",
   "metadata": {},
   "source": [
    "#### 3. Quantas cidades únicas estão registradas?"
   ]
  },
  {
   "cell_type": "code",
   "execution_count": 241,
   "metadata": {},
   "outputs": [
    {
     "data": {
      "text/plain": [
       "125"
      ]
     },
     "execution_count": 241,
     "metadata": {},
     "output_type": "execute_result"
    }
   ],
   "source": [
    "vCityUnique = df[ 'city' ].nunique()\n",
    "vCityUnique"
   ]
  },
  {
   "attachments": {},
   "cell_type": "markdown",
   "metadata": {},
   "source": [
    "#### 4. Qual o total de avaliações feitas?"
   ]
  },
  {
   "cell_type": "code",
   "execution_count": 242,
   "metadata": {},
   "outputs": [
    {
     "data": {
      "text/plain": [
       "'4.194.530'"
      ]
     },
     "execution_count": 242,
     "metadata": {},
     "output_type": "execute_result"
    }
   ],
   "source": [
    "vCountVote = df[ 'votes' ].sum()\n",
    "vCountVote = '{:_}'.format( df[ 'votes' ].sum() ).replace( '.', '.' ).replace( '_', '.' )\n",
    "vCountVote "
   ]
  },
  {
   "attachments": {},
   "cell_type": "markdown",
   "metadata": {},
   "source": [
    "#### 5. Qual o total de tipos de culinária registrados?"
   ]
  },
  {
   "cell_type": "code",
   "execution_count": 243,
   "metadata": {},
   "outputs": [
    {
     "data": {
      "text/plain": [
       "0    163\n",
       "dtype: int64"
      ]
     },
     "execution_count": 243,
     "metadata": {},
     "output_type": "execute_result"
    }
   ],
   "source": [
    "vTotalCuisines = fnc_tot_tp_culinaria( df )\n",
    "vTotalCuisines"
   ]
  },
  {
   "attachments": {},
   "cell_type": "markdown",
   "metadata": {},
   "source": [
    "### País"
   ]
  },
  {
   "attachments": {},
   "cell_type": "markdown",
   "metadata": {},
   "source": [
    "##### 1. Qual o nome do país que possui mais cidades registradas?"
   ]
  },
  {
   "cell_type": "code",
   "execution_count": 7,
   "metadata": {},
   "outputs": [
    {
     "name": "stdout",
     "output_type": "stream",
     "text": [
      "India\n",
      "                   countries  num_cities\n",
      "0                Philippines          12\n",
      "1                     Brazil           3\n",
      "2                  Australia           3\n",
      "3   United States of America          22\n",
      "4                     Canada           3\n",
      "5                  Singapure           1\n",
      "6       United Arab Emirates           4\n",
      "7                      India          49\n",
      "8                  Indonesia           3\n",
      "9                 New Zeland           4\n",
      "10                   England           5\n",
      "11                     Qatar           1\n",
      "12              South Africa          12\n",
      "13                 Sri Lanka           1\n",
      "14                    Turkey           2\n"
     ]
    }
   ],
   "source": [
    "print( fnc_calc_per_country( 1, 'maior', df ) )\n",
    "print( fnc_calc_per_country( 1, 'grafico', df ) )"
   ]
  },
  {
   "attachments": {},
   "cell_type": "markdown",
   "metadata": {},
   "source": [
    "##### 2. Qual o nome do país que possui mais restaurantes registrados?"
   ]
  },
  {
   "cell_type": "code",
   "execution_count": null,
   "metadata": {},
   "outputs": [],
   "source": [
    "print( fnc_calc_per_country( 2, 'maior', df ) )\n",
    "print( fnc_calc_per_country( 2, 'grafico', df ) )"
   ]
  },
  {
   "attachments": {},
   "cell_type": "markdown",
   "metadata": {},
   "source": [
    "##### 3. Qual o nome do país que possui mais restaurantes com o nível de preço igual a 4 registrados?"
   ]
  },
  {
   "cell_type": "code",
   "execution_count": null,
   "metadata": {},
   "outputs": [],
   "source": [
    "print( fnc_calc_per_country( 3, 'maior', df ) )\n",
    "print( fnc_calc_per_country( 3, 'grafico', df ) )"
   ]
  },
  {
   "attachments": {},
   "cell_type": "markdown",
   "metadata": {},
   "source": [
    "##### 4. Qual o nome do país que possui a maior quantidade de tipos de culinária distintos?"
   ]
  },
  {
   "cell_type": "code",
   "execution_count": null,
   "metadata": {},
   "outputs": [],
   "source": [
    "print( fnc_calc_per_country( 4, 'maior', df ) )\n",
    "print( fnc_calc_per_country( 4, 'grafico', df ) )"
   ]
  },
  {
   "attachments": {},
   "cell_type": "markdown",
   "metadata": {},
   "source": [
    "##### 5. Qual o nome do país que possui a maior quantidade de avaliações feitas?"
   ]
  },
  {
   "cell_type": "code",
   "execution_count": null,
   "metadata": {},
   "outputs": [],
   "source": [
    "print( fnc_calc_per_country( 5, 'maior', df ) )\n",
    "print( fnc_calc_per_country( 5, 'grafico', df ) )"
   ]
  },
  {
   "attachments": {},
   "cell_type": "markdown",
   "metadata": {},
   "source": [
    "##### 6. Qual o nome do país que possui a maior quantidade de restaurantes que fazem entrega?"
   ]
  },
  {
   "cell_type": "code",
   "execution_count": null,
   "metadata": {},
   "outputs": [],
   "source": [
    "print( fnc_calc_per_country( 6, 'maior', df ) )\n",
    "print( fnc_calc_per_country( 6, 'grafico', df ) )"
   ]
  },
  {
   "attachments": {},
   "cell_type": "markdown",
   "metadata": {},
   "source": [
    "##### 7. Qual o nome do país que possui a maior quantidade de restaurantes que aceitam reservas?"
   ]
  },
  {
   "cell_type": "code",
   "execution_count": null,
   "metadata": {},
   "outputs": [],
   "source": [
    "print( fnc_calc_per_country( 7, 'maior', df ) )\n",
    "print( fnc_calc_per_country( 7, 'grafico', df ) )"
   ]
  },
  {
   "attachments": {},
   "cell_type": "markdown",
   "metadata": {},
   "source": [
    "##### 8. Qual o nome do país que possui, na média, a maior quantidade de avaliações registrada?"
   ]
  },
  {
   "cell_type": "code",
   "execution_count": 196,
   "metadata": {},
   "outputs": [
    {
     "data": {
      "text/plain": [
       "'Indonesia'"
      ]
     },
     "execution_count": 196,
     "metadata": {},
     "output_type": "execute_result"
    }
   ],
   "source": [
    "df_aux = df.loc[ :, [ 'votes', 'country_name' ] ].groupby( [ 'country_name' ] ).mean().sort_values( [ 'votes' ], ascending=False ).reset_index()\n",
    "\n",
    "df_aux['country_name'][0]"
   ]
  },
  {
   "attachments": {},
   "cell_type": "markdown",
   "metadata": {},
   "source": [
    "##### 9. Qual o nome do país que possui, na média, a maior nota média registrada?"
   ]
  },
  {
   "cell_type": "code",
   "execution_count": 195,
   "metadata": {},
   "outputs": [
    {
     "data": {
      "text/plain": [
       "'Indonesia'"
      ]
     },
     "execution_count": 195,
     "metadata": {},
     "output_type": "execute_result"
    }
   ],
   "source": [
    "df_aux = df.loc[ :, [ 'aggregate_rating', 'country_name' ] ].groupby( [ 'country_name' ] ).mean().sort_values( [ 'aggregate_rating' ], ascending=False ).reset_index()\n",
    "\n",
    "df_aux['country_name'][0]"
   ]
  },
  {
   "attachments": {},
   "cell_type": "markdown",
   "metadata": {},
   "source": [
    "##### 10. Qual o nome do país que possui, na média, a menor nota média registrada?"
   ]
  },
  {
   "cell_type": "code",
   "execution_count": 193,
   "metadata": {},
   "outputs": [
    {
     "data": {
      "text/plain": [
       "'Brazil'"
      ]
     },
     "execution_count": 193,
     "metadata": {},
     "output_type": "execute_result"
    }
   ],
   "source": [
    "df_aux = df.loc[ :, [ 'aggregate_rating', 'country_name' ] ].groupby( [ 'country_name' ] ).mean().sort_values( [ 'aggregate_rating' ], ascending=True ).reset_index()\n",
    "\n",
    "# country_name( df_aux['country_code'][0] )\n",
    "df_aux['country_name'][0]"
   ]
  },
  {
   "attachments": {},
   "cell_type": "markdown",
   "metadata": {},
   "source": [
    "##### 11. Qual a média de preço de um prato para dois por país?"
   ]
  },
  {
   "cell_type": "code",
   "execution_count": null,
   "metadata": {},
   "outputs": [],
   "source": [
    "df.loc[ :, [ 'average_cost_for_two', 'country_name' ] ].groupby( [ 'country_name' ] ).mean().sort_values( 'average_cost_for_two', ascending=False ).reset_index()"
   ]
  },
  {
   "attachments": {},
   "cell_type": "markdown",
   "metadata": {},
   "source": [
    "### Cidade"
   ]
  },
  {
   "attachments": {},
   "cell_type": "markdown",
   "metadata": {},
   "source": [
    "##### 1. Qual o nome da cidade que possui mais restaurantes registrados?"
   ]
  },
  {
   "cell_type": "code",
   "execution_count": 18,
   "metadata": {},
   "outputs": [
    {
     "data": {
      "text/html": [
       "<div>\n",
       "<style scoped>\n",
       "    .dataframe tbody tr th:only-of-type {\n",
       "        vertical-align: middle;\n",
       "    }\n",
       "\n",
       "    .dataframe tbody tr th {\n",
       "        vertical-align: top;\n",
       "    }\n",
       "\n",
       "    .dataframe thead th {\n",
       "        text-align: right;\n",
       "    }\n",
       "</style>\n",
       "<table border=\"1\" class=\"dataframe\">\n",
       "  <thead>\n",
       "    <tr style=\"text-align: right;\">\n",
       "      <th></th>\n",
       "      <th>Cidade</th>\n",
       "      <th>País</th>\n",
       "      <th>Quantidade de Restaurantes</th>\n",
       "    </tr>\n",
       "  </thead>\n",
       "  <tbody>\n",
       "    <tr>\n",
       "      <th>0</th>\n",
       "      <td>Nagpur</td>\n",
       "      <td>India</td>\n",
       "      <td>99</td>\n",
       "    </tr>\n",
       "    <tr>\n",
       "      <th>1</th>\n",
       "      <td>Surat</td>\n",
       "      <td>India</td>\n",
       "      <td>95</td>\n",
       "    </tr>\n",
       "    <tr>\n",
       "      <th>2</th>\n",
       "      <td>Birmingham</td>\n",
       "      <td>England</td>\n",
       "      <td>95</td>\n",
       "    </tr>\n",
       "    <tr>\n",
       "      <th>3</th>\n",
       "      <td>Abu Dhabi</td>\n",
       "      <td>United Arab Emirates</td>\n",
       "      <td>95</td>\n",
       "    </tr>\n",
       "    <tr>\n",
       "      <th>4</th>\n",
       "      <td>Doha</td>\n",
       "      <td>Qatar</td>\n",
       "      <td>94</td>\n",
       "    </tr>\n",
       "    <tr>\n",
       "      <th>5</th>\n",
       "      <td>Goa</td>\n",
       "      <td>India</td>\n",
       "      <td>94</td>\n",
       "    </tr>\n",
       "    <tr>\n",
       "      <th>6</th>\n",
       "      <td>Cape Town</td>\n",
       "      <td>South Africa</td>\n",
       "      <td>94</td>\n",
       "    </tr>\n",
       "    <tr>\n",
       "      <th>7</th>\n",
       "      <td>Patna</td>\n",
       "      <td>India</td>\n",
       "      <td>93</td>\n",
       "    </tr>\n",
       "    <tr>\n",
       "      <th>8</th>\n",
       "      <td>Rio de Janeiro</td>\n",
       "      <td>Brazil</td>\n",
       "      <td>92</td>\n",
       "    </tr>\n",
       "    <tr>\n",
       "      <th>9</th>\n",
       "      <td>Aurangabad</td>\n",
       "      <td>India</td>\n",
       "      <td>92</td>\n",
       "    </tr>\n",
       "  </tbody>\n",
       "</table>\n",
       "</div>"
      ],
      "text/plain": [
       "           Cidade                  País  Quantidade de Restaurantes\n",
       "0          Nagpur                 India                          99\n",
       "1           Surat                 India                          95\n",
       "2      Birmingham               England                          95\n",
       "3       Abu Dhabi  United Arab Emirates                          95\n",
       "4            Doha                 Qatar                          94\n",
       "5             Goa                 India                          94\n",
       "6       Cape Town          South Africa                          94\n",
       "7           Patna                 India                          93\n",
       "8  Rio de Janeiro                Brazil                          92\n",
       "9      Aurangabad                 India                          92"
      ]
     },
     "execution_count": 18,
     "metadata": {},
     "output_type": "execute_result"
    }
   ],
   "source": [
    "df_aux = df.loc[ :, [ 'restaurant_id', 'city', 'country_name' ] ].groupby( [ 'city', 'country_name' ] ).count().sort_values( ['restaurant_id'], ascending = False ).reset_index().head(10)\n",
    "df_aux.columns = [ 'Cidade', 'País', 'Quantidade de Restaurantes' ]\n",
    "df_aux"
   ]
  },
  {
   "cell_type": "code",
   "execution_count": 11,
   "metadata": {},
   "outputs": [
    {
     "data": {
      "text/html": [
       "<div>\n",
       "<style scoped>\n",
       "    .dataframe tbody tr th:only-of-type {\n",
       "        vertical-align: middle;\n",
       "    }\n",
       "\n",
       "    .dataframe tbody tr th {\n",
       "        vertical-align: top;\n",
       "    }\n",
       "\n",
       "    .dataframe thead th {\n",
       "        text-align: right;\n",
       "    }\n",
       "</style>\n",
       "<table border=\"1\" class=\"dataframe\">\n",
       "  <thead>\n",
       "    <tr style=\"text-align: right;\">\n",
       "      <th></th>\n",
       "      <th>city</th>\n",
       "      <th>restaurant_id</th>\n",
       "    </tr>\n",
       "  </thead>\n",
       "  <tbody>\n",
       "    <tr>\n",
       "      <th>0</th>\n",
       "      <td>Nagpur</td>\n",
       "      <td>99</td>\n",
       "    </tr>\n",
       "    <tr>\n",
       "      <th>1</th>\n",
       "      <td>Surat</td>\n",
       "      <td>95</td>\n",
       "    </tr>\n",
       "    <tr>\n",
       "      <th>2</th>\n",
       "      <td>Birmingham</td>\n",
       "      <td>95</td>\n",
       "    </tr>\n",
       "    <tr>\n",
       "      <th>3</th>\n",
       "      <td>Abu Dhabi</td>\n",
       "      <td>95</td>\n",
       "    </tr>\n",
       "    <tr>\n",
       "      <th>4</th>\n",
       "      <td>Doha</td>\n",
       "      <td>94</td>\n",
       "    </tr>\n",
       "    <tr>\n",
       "      <th>5</th>\n",
       "      <td>Goa</td>\n",
       "      <td>94</td>\n",
       "    </tr>\n",
       "    <tr>\n",
       "      <th>6</th>\n",
       "      <td>Cape Town</td>\n",
       "      <td>94</td>\n",
       "    </tr>\n",
       "    <tr>\n",
       "      <th>7</th>\n",
       "      <td>Patna</td>\n",
       "      <td>93</td>\n",
       "    </tr>\n",
       "    <tr>\n",
       "      <th>8</th>\n",
       "      <td>Rio de Janeiro</td>\n",
       "      <td>92</td>\n",
       "    </tr>\n",
       "    <tr>\n",
       "      <th>9</th>\n",
       "      <td>Aurangabad</td>\n",
       "      <td>92</td>\n",
       "    </tr>\n",
       "  </tbody>\n",
       "</table>\n",
       "</div>"
      ],
      "text/plain": [
       "             city  restaurant_id\n",
       "0          Nagpur             99\n",
       "1           Surat             95\n",
       "2      Birmingham             95\n",
       "3       Abu Dhabi             95\n",
       "4            Doha             94\n",
       "5             Goa             94\n",
       "6       Cape Town             94\n",
       "7           Patna             93\n",
       "8  Rio de Janeiro             92\n",
       "9      Aurangabad             92"
      ]
     },
     "execution_count": 11,
     "metadata": {},
     "output_type": "execute_result"
    }
   ],
   "source": [
    "df_aux = df.loc[ :, [ 'restaurant_id', 'city' ] ].groupby( [ 'city' ] ).count().sort_values( ['restaurant_id'], ascending = False ).reset_index().head(10)\n",
    "df_aux['city'][0]\n",
    "\n",
    "df_aux"
   ]
  },
  {
   "attachments": {},
   "cell_type": "markdown",
   "metadata": {},
   "source": [
    "##### 2. Qual o nome da cidade que possui mais restaurantes com nota média acima de 4?"
   ]
  },
  {
   "cell_type": "code",
   "execution_count": 210,
   "metadata": {},
   "outputs": [
    {
     "data": {
      "text/plain": [
       "'Nagpur'"
      ]
     },
     "execution_count": 210,
     "metadata": {},
     "output_type": "execute_result"
    }
   ],
   "source": [
    "df.loc[ ( df[ 'aggregate_rating' ] > 4 ), [ 'restaurant', 'city' ] ].groupby( [ 'city' ] ).count().sort_values( [ 'restaurant' ], ascending=False ).reset_index().head(1)\n",
    "df_aux['city'][0]"
   ]
  },
  {
   "attachments": {},
   "cell_type": "markdown",
   "metadata": {},
   "source": [
    "##### 3. Qual o nome da cidade que possui mais restaurantes com nota média abaixo de 2.5?"
   ]
  },
  {
   "cell_type": "code",
   "execution_count": 213,
   "metadata": {},
   "outputs": [
    {
     "data": {
      "text/plain": [
       "'Gangtok'"
      ]
     },
     "execution_count": 213,
     "metadata": {},
     "output_type": "execute_result"
    }
   ],
   "source": [
    "df_aux = df.loc[ ( df[ 'aggregate_rating' ] < 2.5 ), [ 'restaurant', 'city' ] ].groupby( [ 'city' ] ).count().sort_values( [ 'restaurant' ], ascending=False ).reset_index().head(1)\n",
    "df_aux['city'][0]"
   ]
  },
  {
   "attachments": {},
   "cell_type": "markdown",
   "metadata": {},
   "source": [
    "##### 4. Qual o nome da cidade que possui o maior valor médio de um prato para dois?"
   ]
  },
  {
   "cell_type": "code",
   "execution_count": 214,
   "metadata": {},
   "outputs": [
    {
     "data": {
      "text/plain": [
       "'Adelaide'"
      ]
     },
     "execution_count": 214,
     "metadata": {},
     "output_type": "execute_result"
    }
   ],
   "source": [
    "df_aux = df.loc[ :, [ 'average_cost_for_two', 'city' ] ].groupby( [ 'city' ] ).mean().sort_values( [ 'average_cost_for_two' ], ascending=False ).reset_index().head(1)\n",
    "df_aux['city'][0]"
   ]
  },
  {
   "attachments": {},
   "cell_type": "markdown",
   "metadata": {},
   "source": [
    "##### 5. Qual o nome da cidade que possui a maior quantidade de tipos de culinária distintas?"
   ]
  },
  {
   "cell_type": "code",
   "execution_count": 221,
   "metadata": {},
   "outputs": [
    {
     "data": {
      "text/html": [
       "<div>\n",
       "<style scoped>\n",
       "    .dataframe tbody tr th:only-of-type {\n",
       "        vertical-align: middle;\n",
       "    }\n",
       "\n",
       "    .dataframe tbody tr th {\n",
       "        vertical-align: top;\n",
       "    }\n",
       "\n",
       "    .dataframe thead th {\n",
       "        text-align: right;\n",
       "    }\n",
       "</style>\n",
       "<table border=\"1\" class=\"dataframe\">\n",
       "  <thead>\n",
       "    <tr style=\"text-align: right;\">\n",
       "      <th></th>\n",
       "      <th>country_name</th>\n",
       "      <th>city</th>\n",
       "      <th>cuisines</th>\n",
       "    </tr>\n",
       "  </thead>\n",
       "  <tbody>\n",
       "    <tr>\n",
       "      <th>0</th>\n",
       "      <td>United States of America</td>\n",
       "      <td>Houston</td>\n",
       "      <td>30</td>\n",
       "    </tr>\n",
       "    <tr>\n",
       "      <th>1</th>\n",
       "      <td>United States of America</td>\n",
       "      <td>Philadelphia</td>\n",
       "      <td>29</td>\n",
       "    </tr>\n",
       "    <tr>\n",
       "      <th>2</th>\n",
       "      <td>United States of America</td>\n",
       "      <td>Portland</td>\n",
       "      <td>28</td>\n",
       "    </tr>\n",
       "    <tr>\n",
       "      <th>3</th>\n",
       "      <td>United States of America</td>\n",
       "      <td>Seattle</td>\n",
       "      <td>27</td>\n",
       "    </tr>\n",
       "    <tr>\n",
       "      <th>4</th>\n",
       "      <td>United States of America</td>\n",
       "      <td>San Francisco</td>\n",
       "      <td>26</td>\n",
       "    </tr>\n",
       "    <tr>\n",
       "      <th>...</th>\n",
       "      <td>...</td>\n",
       "      <td>...</td>\n",
       "      <td>...</td>\n",
       "    </tr>\n",
       "    <tr>\n",
       "      <th>120</th>\n",
       "      <td>Brazil</td>\n",
       "      <td>Brasília</td>\n",
       "      <td>26</td>\n",
       "    </tr>\n",
       "    <tr>\n",
       "      <th>121</th>\n",
       "      <td>Brazil</td>\n",
       "      <td>Rio de Janeiro</td>\n",
       "      <td>24</td>\n",
       "    </tr>\n",
       "    <tr>\n",
       "      <th>122</th>\n",
       "      <td>Australia</td>\n",
       "      <td>Perth</td>\n",
       "      <td>29</td>\n",
       "    </tr>\n",
       "    <tr>\n",
       "      <th>123</th>\n",
       "      <td>Australia</td>\n",
       "      <td>Adelaide</td>\n",
       "      <td>25</td>\n",
       "    </tr>\n",
       "    <tr>\n",
       "      <th>124</th>\n",
       "      <td>Australia</td>\n",
       "      <td>Brisbane</td>\n",
       "      <td>25</td>\n",
       "    </tr>\n",
       "  </tbody>\n",
       "</table>\n",
       "<p>125 rows × 3 columns</p>\n",
       "</div>"
      ],
      "text/plain": [
       "                 country_name            city  cuisines\n",
       "0    United States of America         Houston        30\n",
       "1    United States of America    Philadelphia        29\n",
       "2    United States of America        Portland        28\n",
       "3    United States of America         Seattle        27\n",
       "4    United States of America   San Francisco        26\n",
       "..                        ...             ...       ...\n",
       "120                    Brazil        Brasília        26\n",
       "121                    Brazil  Rio de Janeiro        24\n",
       "122                 Australia           Perth        29\n",
       "123                 Australia        Adelaide        25\n",
       "124                 Australia        Brisbane        25\n",
       "\n",
       "[125 rows x 3 columns]"
      ]
     },
     "execution_count": 221,
     "metadata": {},
     "output_type": "execute_result"
    }
   ],
   "source": [
    "df_aux01 = df.loc[ :, ['country_name', 'city', 'cuisines']]\n",
    "df_aux01 = df_aux01.groupby( ['country_name', 'city'] ).nunique().sort_values( ['country_name', 'cuisines'], ascending=False ).reset_index()\n",
    "df_aux01"
   ]
  },
  {
   "cell_type": "code",
   "execution_count": null,
   "metadata": {},
   "outputs": [],
   "source": [
    "df_aux = []\n",
    "lst_tst = []\n",
    "lst_tst = []\n",
    "vTotalCuisines = 0\n",
    "lst_cuisines = df[ 'cuisines' ].unique()\n",
    "lst_city = df[ 'city' ].unique()\n",
    "countries = []\n",
    "cities = []\n",
    "cuisines = []\n",
    "vMaiorCidade = None\n",
    "\n",
    "for row in lst_city:\n",
    "    df_aux = df.loc[ ( df['city'] == row ), : ]\n",
    "    for row2 in df_aux['cuisines']:\n",
    "        # print(row2)\n",
    "        if row2 not in lst_tst:\n",
    "            lst_tst.append(row2)\n",
    "\n",
    "    if len( lst_tst ) > vTotalCuisines:    \n",
    "        vTotalCuisines = len( lst_tst )\n",
    "        vMaiorCidade = row\n",
    "    print(row)\n",
    "    print(vTotalCuisines)\n",
    "    \n",
    "    countries.append( df_aux['country_name'] )\n",
    "    cities.append(row)\n",
    "    cuisines.append(vTotalCuisines)\n",
    "    df01 = pd.DataFrame({'country_name' : countries,\n",
    "                         'city' : cities,\n",
    "                         'cuisines' : cuisines})\n",
    "\n",
    "df01"
   ]
  },
  {
   "cell_type": "code",
   "execution_count": null,
   "metadata": {},
   "outputs": [],
   "source": [
    "df_aux = []\n",
    "lst_tst = []\n",
    "vMaiorCidade = None\n",
    "vTotalCuisines = 0\n",
    "lst_cuisines = df[ 'cuisines' ].unique()\n",
    "lst_city = df[ 'city' ].unique()\n",
    "\n",
    "for row in lst_city:\n",
    "    df_aux = df.loc[ ( df['city'] == row ), : ]\n",
    "    # print(row)\n",
    "    for row2 in df_aux['cuisines']:\n",
    "        # print(row2)\n",
    "        if row2 not in lst_tst:\n",
    "            lst_tst.append(row2)\n",
    "\n",
    "    if len( lst_tst ) > vTotalCuisines:    \n",
    "        vTotalCuisines = len( lst_tst )\n",
    "        vMaiorCidade = row\n",
    "        # print(vTotalCuisines)\n",
    "\n",
    "    # print(vTotalCuisines)\n",
    "\n",
    "print( vMaiorCidade )"
   ]
  },
  {
   "attachments": {},
   "cell_type": "markdown",
   "metadata": {},
   "source": [
    "##### 6. Qual o nome da cidade que possui a maior quantidade de restaurantes que fazem reservas?"
   ]
  },
  {
   "cell_type": "code",
   "execution_count": 27,
   "metadata": {},
   "outputs": [
    {
     "data": {
      "text/plain": [
       "'Bangalore'"
      ]
     },
     "execution_count": 27,
     "metadata": {},
     "output_type": "execute_result"
    }
   ],
   "source": [
    "df_aux = df.loc[ ( df[ 'has_table_booking' ] == 1 ), [ 'restaurant_id', 'city' ] ].groupby( [ 'city' ] ).count().sort_values( [ 'restaurant_id' ], ascending=False ).reset_index().head(1)\n",
    "df_aux[ 'city' ][0]"
   ]
  },
  {
   "attachments": {},
   "cell_type": "markdown",
   "metadata": {},
   "source": [
    "##### 7. Qual o nome da cidade que possui a maior quantidade de restaurantes que fazem entregas?"
   ]
  },
  {
   "cell_type": "code",
   "execution_count": 100,
   "metadata": {},
   "outputs": [
    {
     "data": {
      "text/plain": [
       "'Aurangabad'"
      ]
     },
     "execution_count": 100,
     "metadata": {},
     "output_type": "execute_result"
    }
   ],
   "source": [
    "df_aux = df.loc[ ( df[ 'is_delivering_now' ] == 1 ), [ 'restaurant_id', 'city' ] ].groupby( [ 'city' ] ).count().sort_values( [ 'restaurant_id' ], ascending=False ).reset_index().head(1)\n",
    "df_aux[ 'city' ][0]"
   ]
  },
  {
   "attachments": {},
   "cell_type": "markdown",
   "metadata": {},
   "source": [
    "##### 8. Qual o nome da cidade que possui a maior quantidade de restaurantes que aceitam pedidos online?"
   ]
  },
  {
   "cell_type": "code",
   "execution_count": 101,
   "metadata": {},
   "outputs": [
    {
     "data": {
      "text/plain": [
       "'Abu Dhabi'"
      ]
     },
     "execution_count": 101,
     "metadata": {},
     "output_type": "execute_result"
    }
   ],
   "source": [
    "df_aux = df.loc[ ( df[ 'has_online_delivery' ] == 1 ), [ 'restaurant_id', 'city' ] ].groupby( [ 'city' ] ).count().sort_values( [ 'restaurant_id' ], ascending=False ).reset_index().head(1)\n",
    "df_aux[ 'city' ][0]"
   ]
  },
  {
   "attachments": {},
   "cell_type": "markdown",
   "metadata": {},
   "source": [
    "### Restaurantes"
   ]
  },
  {
   "attachments": {},
   "cell_type": "markdown",
   "metadata": {},
   "source": [
    "##### 1. Qual o nome do restaurante que possui a maior quantidade de avaliações?"
   ]
  },
  {
   "cell_type": "code",
   "execution_count": 103,
   "metadata": {},
   "outputs": [
    {
     "data": {
      "text/plain": [
       "\"Domino's Pizza\""
      ]
     },
     "execution_count": 103,
     "metadata": {},
     "output_type": "execute_result"
    }
   ],
   "source": [
    "df_aux = df.loc[ :, [ 'votes', 'restaurant_name' ] ].groupby( [ 'restaurant_name' ] ).sum().sort_values( [ 'votes' ], ascending=False ).reset_index().head(1)\n",
    "df_aux[ 'restaurant_name' ][0]"
   ]
  },
  {
   "attachments": {},
   "cell_type": "markdown",
   "metadata": {},
   "source": [
    "##### 2. Qual o nome do restaurante com a maior nota média?"
   ]
  },
  {
   "cell_type": "code",
   "execution_count": 104,
   "metadata": {},
   "outputs": [
    {
     "data": {
      "text/plain": [
       "'Andina Restaurant'"
      ]
     },
     "execution_count": 104,
     "metadata": {},
     "output_type": "execute_result"
    }
   ],
   "source": [
    "df_aux = df.loc[ :, [ 'aggregate_rating', 'restaurant_name' ] ].groupby( [ 'restaurant_name' ] ).mean().sort_values( [ 'aggregate_rating' ], ascending=False ).reset_index().head(1)\n",
    "df_aux[ 'restaurant_name' ][0]"
   ]
  },
  {
   "attachments": {},
   "cell_type": "markdown",
   "metadata": {},
   "source": [
    "##### 3. Qual o nome do restaurante que possui o maior valor de uma prato para duas pessoas?"
   ]
  },
  {
   "cell_type": "code",
   "execution_count": 107,
   "metadata": {},
   "outputs": [
    {
     "data": {
      "text/plain": [
       "\"d'Arry's Verandah Restaurant\""
      ]
     },
     "execution_count": 107,
     "metadata": {},
     "output_type": "execute_result"
    }
   ],
   "source": [
    "df_aux = df.loc[ :, [ 'average_cost_for_two', 'restaurant_name' ] ].sort_values( [ 'average_cost_for_two' ], ascending=False ).reset_index().head(1)\n",
    "df_aux['restaurant_name'][0]"
   ]
  },
  {
   "attachments": {},
   "cell_type": "markdown",
   "metadata": {},
   "source": [
    "##### 4. Qual o nome do restaurante de tipo de culinária brasileira que possui a menor média de avaliação?\n"
   ]
  },
  {
   "cell_type": "code",
   "execution_count": 120,
   "metadata": {},
   "outputs": [
    {
     "data": {
      "text/plain": [
       "'Restaurante dos Amigos'"
      ]
     },
     "execution_count": 120,
     "metadata": {},
     "output_type": "execute_result"
    }
   ],
   "source": [
    "df_aux = (df.loc[ ( df[ 'cuisines' ] == 'Brazilian' ), [ 'aggregate_rating', 'restaurant_name' ] ].groupby( [ 'restaurant_name' ] )\n",
    "                                                                                                  .mean()\n",
    "                                                                                                  .sort_values( [ 'aggregate_rating' ] )\n",
    "                                                                                                  .reset_index()\n",
    "                                                                                                  .head(1) )\n",
    "df_aux[ 'restaurant_name' ][0]"
   ]
  },
  {
   "attachments": {},
   "cell_type": "markdown",
   "metadata": {},
   "source": [
    "##### 5. Qual o nome do restaurante de tipo de culinária brasileira, e que é do Brasil, que possui a maior média de avaliação?\n"
   ]
  },
  {
   "cell_type": "code",
   "execution_count": 121,
   "metadata": {},
   "outputs": [
    {
     "data": {
      "text/plain": [
       "'Braseiro da Gávea'"
      ]
     },
     "execution_count": 121,
     "metadata": {},
     "output_type": "execute_result"
    }
   ],
   "source": [
    "df_aux = ( df.loc[ ( df[ 'cuisines' ] == 'Brazilian' ) & (( df[ 'country_name' ] == 'Brazil' )), [ 'aggregate_rating', 'restaurant_name' ] ].groupby( [ 'restaurant_name' ] )\n",
    "                                                                                                                                            .mean()\n",
    "                                                                                                                                            .sort_values( [ 'aggregate_rating' ], ascending=False )\n",
    "                                                                                                                                            .reset_index()\n",
    "                                                                                                                                            .head(1) )\n",
    "df_aux[ 'restaurant_name' ][0]"
   ]
  },
  {
   "attachments": {},
   "cell_type": "markdown",
   "metadata": {},
   "source": [
    "##### 6. Os restaurantes que aceitam pedido online são também, na média, os restaurantes que mais possuem avaliações registradas?\n"
   ]
  },
  {
   "cell_type": "code",
   "execution_count": 135,
   "metadata": {},
   "outputs": [
    {
     "name": "stdout",
     "output_type": "stream",
     "text": [
      "      index  restaurant_id      restaurant_name\n",
      "0      3760            549           Dana Choga\n",
      "1      3660           1345    The Yellow Chilli\n",
      "2      5085           2008          Hira Sweets\n",
      "3      5037           4751  Chili's Grill & Bar\n",
      "4      5038           4751  Chili's Grill & Bar\n",
      "...     ...            ...                  ...\n",
      "2648   5174       18994548   V. Krishnan Bakery\n",
      "2649   5119       18997447   Adarsh Veg Kitchen\n",
      "2650   5115       18997511      Jain Restaurant\n",
      "2651   5748       19003551             Icekraft\n",
      "2652   4733       19008239     HAS South Bombay\n",
      "\n",
      "[2653 rows x 3 columns]\n",
      "                     restaurant_name         votes\n",
      "0                               Toit  15270.000000\n",
      "1                           Truffles  14984.000000\n",
      "2                           Bawarchi  13903.666667\n",
      "3                   Hauz Khas Social  13627.000000\n",
      "4     Shah Ghouse Hotel & Restaurant  11836.000000\n",
      "...                              ...           ...\n",
      "5894              Coco Bambú Anhembi      0.000000\n",
      "5895            Vinheria Santa Clara      0.000000\n",
      "5896                           Veeno      0.000000\n",
      "5897              Tempero das Gerais      0.000000\n",
      "5898                         Barbosa      0.000000\n",
      "\n",
      "[5899 rows x 2 columns]\n"
     ]
    }
   ],
   "source": [
    "df_pedido_online = df.loc[ ( df[ 'has_online_delivery' ] == 1 ), [ 'restaurant_id', 'restaurant_name' ] ].sort_values( [ 'restaurant_id' ] ).reset_index()\n",
    "print( df_pedido_online )\n",
    "\n",
    "df_maior_media = ( df.loc[ :, [ 'votes', 'restaurant_name' ] ].groupby( [ 'restaurant_name' ] )\n",
    "                                                              .mean()\n",
    "                                                              .sort_values( [ 'votes' ], ascending=False )\n",
    "                                                              .reset_index() )\n",
    "print( df_maior_media )"
   ]
  },
  {
   "attachments": {},
   "cell_type": "markdown",
   "metadata": {},
   "source": [
    "##### 7. Os restaurantes que fazem reservas são também, na média, os restaurantes que possuem o maior valor médio de um prato para duas pessoas?\n"
   ]
  },
  {
   "cell_type": "code",
   "execution_count": 137,
   "metadata": {},
   "outputs": [
    {
     "name": "stdout",
     "output_type": "stream",
     "text": [
      "     index  restaurant_id      restaurant_name\n",
      "0     5075           8369          Garage Inc.\n",
      "1     3758           8913     Pirates of Grill\n",
      "2     3759           8913     Pirates of Grill\n",
      "3     5435          10987            Cafe 1730\n",
      "4     4362          20842      Barbeque Nation\n",
      "..     ...            ...                  ...\n",
      "463   3337       18938720       Coal Barbecues\n",
      "464   3035       18945224  Secret Of Bangalore\n",
      "465   4446       18951931        The Centurion\n",
      "466   3245       18972215              Baithak\n",
      "467   4447       19000106  The Drowning Street\n",
      "\n",
      "[468 rows x 3 columns]\n",
      "                              restaurant_name  average_cost_for_two\n",
      "0                d'Arry's Verandah Restaurant            25000017.0\n",
      "1                      The Café - Hotel Mulia             1200000.0\n",
      "2                        GIA Restaurant & Bar              700000.0\n",
      "3                                        SKYE              600000.0\n",
      "4                         Shabu-Shabu Shaburi              600000.0\n",
      "...                                       ...                   ...\n",
      "5894                      Republic of Chicken                   0.0\n",
      "5895                         The Albion Rooms                   0.0\n",
      "5896                             Shiva Indian                   0.0\n",
      "5897  Canvas - Fairmont Fujairah Beach Resort                   0.0\n",
      "5898                                    Catch                   0.0\n",
      "\n",
      "[5899 rows x 2 columns]\n"
     ]
    }
   ],
   "source": [
    "df_reserva = df.loc[ ( df[ 'has_table_booking' ] == 1 ), [ 'restaurant_id', 'restaurant_name' ] ].sort_values( [ 'restaurant_id' ] ).reset_index()\n",
    "print( df_reserva )\n",
    "\n",
    "df_maior_media = ( df.loc[ :, [ 'average_cost_for_two', 'restaurant_name' ] ].groupby( [ 'restaurant_name' ] )\n",
    "                                                                             .mean()\n",
    "                                                                             .sort_values( [ 'average_cost_for_two' ], ascending=False )\n",
    "                                                                             .reset_index() )\n",
    "print( df_maior_media )"
   ]
  },
  {
   "attachments": {},
   "cell_type": "markdown",
   "metadata": {},
   "source": [
    "##### 8. Os restaurantes do tipo de culinária japonesa dos Estados Unidos da América possuem um valor médio de prato para duas pessoas maior que as churrascarias americana (BBQ)?"
   ]
  },
  {
   "cell_type": "code",
   "execution_count": 142,
   "metadata": {},
   "outputs": [
    {
     "name": "stdout",
     "output_type": "stream",
     "text": [
      "              restaurant_name  average_cost_for_two\n",
      "0                        Nobu                 250.0\n",
      "1                    Morimoto                 120.0\n",
      "2         Roka Akor - Chicago                 100.0\n",
      "3                        Uchi                  80.0\n",
      "4                Bamboo Sushi                  75.0\n",
      "5  Shibui Japanese Restaurant                  75.0\n",
      "6                   Sushi Den                  70.0\n",
      "7                        Raku                  70.0\n",
      "8                         Pod                  70.0\n",
      "9      SUSHISAMBA - Las Vegas                  70.0\n",
      "             restaurant_name  average_cost_for_two\n",
      "0      Magal Mapogalmegi BBQ              300000.0\n",
      "1             The Indi Grill                1500.0\n",
      "2           The Big Barbeque                1500.0\n",
      "3  AB's - Absolute Barbecues                1400.0\n",
      "4         Universal Barbeque                1200.0\n",
      "5         Fresh Off The Boat                 900.0\n",
      "6     Dindigul Thalappakatti                 800.0\n",
      "7                  Big Feast                 500.0\n",
      "8        A Figueira Rubaiyat                 300.0\n",
      "9                    Varanda                 260.0\n"
     ]
    }
   ],
   "source": [
    "df_japa_eua = ( df.loc[ ( df[ 'country_name' ] == 'United States of America' ) & ( df[ 'cuisines' ] == 'Japanese' ), [ 'average_cost_for_two', 'restaurant_name' ] ].groupby( [ 'restaurant_name' ] )\n",
    "                                                                                                                                                                    .mean()\n",
    "                                                                                                                                                                    .sort_values( [ 'average_cost_for_two' ], ascending=False )\n",
    "                                                                                                                                                                    .reset_index()\n",
    "                                                                                                                                                                    .head(10) )\n",
    "print( df_japa_eua )\n",
    "\n",
    "df_cost_bbq = ( df.loc[ ( df[ 'cuisines' ] == 'BBQ' ), [ 'average_cost_for_two', 'restaurant_name' ] ].groupby( [ 'restaurant_name' ] )\n",
    "                                                                                                      .mean()\n",
    "                                                                                                      .sort_values( [ 'average_cost_for_two' ], ascending=False )\n",
    "                                                                                                      .reset_index()\n",
    "                                                                                                      .head(10) )\n",
    "print( df_cost_bbq )"
   ]
  },
  {
   "attachments": {},
   "cell_type": "markdown",
   "metadata": {},
   "source": [
    "### Tipos de Culinária"
   ]
  },
  {
   "attachments": {},
   "cell_type": "markdown",
   "metadata": {},
   "source": [
    "##### 1. Dos restaurantes que possuem o tipo de culinária italiana, qual o nome do restaurante com a maior média de avaliação?\n"
   ]
  },
  {
   "cell_type": "code",
   "execution_count": 255,
   "metadata": {},
   "outputs": [
    {
     "data": {
      "text/plain": [
       "'Central Grocery'"
      ]
     },
     "execution_count": 255,
     "metadata": {},
     "output_type": "execute_result"
    }
   ],
   "source": [
    "df_aux = ( df.loc[ ( df[ 'cuisines' ] == 'Italian' ), [ 'aggregate_rating', 'restaurant_name' ] ].groupby( [ 'restaurant_name' ] )\n",
    "                                                                                        .mean()\n",
    "                                                                                        .sort_values( [ 'aggregate_rating' ], ascending=False )\n",
    "                                                                                        .reset_index()\n",
    "                                                                                        .head(1) )\n",
    "df_aux[ 'restaurant_name' ][0]"
   ]
  },
  {
   "cell_type": "code",
   "execution_count": 275,
   "metadata": {},
   "outputs": [
    {
     "data": {
      "text/html": [
       "<div>\n",
       "<style scoped>\n",
       "    .dataframe tbody tr th:only-of-type {\n",
       "        vertical-align: middle;\n",
       "    }\n",
       "\n",
       "    .dataframe tbody tr th {\n",
       "        vertical-align: top;\n",
       "    }\n",
       "\n",
       "    .dataframe thead th {\n",
       "        text-align: right;\n",
       "    }\n",
       "</style>\n",
       "<table border=\"1\" class=\"dataframe\">\n",
       "  <thead>\n",
       "    <tr style=\"text-align: right;\">\n",
       "      <th></th>\n",
       "      <th>restaurant_id</th>\n",
       "      <th>restaurant_name</th>\n",
       "      <th>country_code</th>\n",
       "      <th>city</th>\n",
       "      <th>address</th>\n",
       "      <th>locality</th>\n",
       "      <th>locality_verbose</th>\n",
       "      <th>longitude</th>\n",
       "      <th>latitude</th>\n",
       "      <th>cuisines</th>\n",
       "      <th>...</th>\n",
       "      <th>has_table_booking</th>\n",
       "      <th>has_online_delivery</th>\n",
       "      <th>is_delivering_now</th>\n",
       "      <th>switch_to_order_menu</th>\n",
       "      <th>price_range</th>\n",
       "      <th>aggregate_rating</th>\n",
       "      <th>rating_color</th>\n",
       "      <th>rating_text</th>\n",
       "      <th>votes</th>\n",
       "      <th>country_name</th>\n",
       "    </tr>\n",
       "  </thead>\n",
       "  <tbody>\n",
       "    <tr>\n",
       "      <th>5398</th>\n",
       "      <td>18732937</td>\n",
       "      <td>Darshan</td>\n",
       "      <td>1</td>\n",
       "      <td>Pune</td>\n",
       "      <td>Amar Business Park, Baner, Pune</td>\n",
       "      <td>Baner</td>\n",
       "      <td>Baner, Pune</td>\n",
       "      <td>73.767019</td>\n",
       "      <td>18.568732</td>\n",
       "      <td>Italian</td>\n",
       "      <td>...</td>\n",
       "      <td>0</td>\n",
       "      <td>1</td>\n",
       "      <td>1</td>\n",
       "      <td>0</td>\n",
       "      <td>2</td>\n",
       "      <td>4.6</td>\n",
       "      <td>3F7E00</td>\n",
       "      <td>Excellent</td>\n",
       "      <td>1657</td>\n",
       "      <td>India</td>\n",
       "    </tr>\n",
       "    <tr>\n",
       "      <th>5408</th>\n",
       "      <td>10021</td>\n",
       "      <td>Darshan</td>\n",
       "      <td>1</td>\n",
       "      <td>Pune</td>\n",
       "      <td>759/60, Prabhat Road, Opposite Indian Bank, De...</td>\n",
       "      <td>Deccan Gymkhana</td>\n",
       "      <td>Deccan Gymkhana, Pune</td>\n",
       "      <td>73.840957</td>\n",
       "      <td>18.514017</td>\n",
       "      <td>Italian</td>\n",
       "      <td>...</td>\n",
       "      <td>0</td>\n",
       "      <td>1</td>\n",
       "      <td>1</td>\n",
       "      <td>0</td>\n",
       "      <td>2</td>\n",
       "      <td>4.9</td>\n",
       "      <td>3F7E00</td>\n",
       "      <td>Excellent</td>\n",
       "      <td>3106</td>\n",
       "      <td>India</td>\n",
       "    </tr>\n",
       "  </tbody>\n",
       "</table>\n",
       "<p>2 rows × 22 columns</p>\n",
       "</div>"
      ],
      "text/plain": [
       "      restaurant_id restaurant_name  country_code  city  \\\n",
       "5398       18732937         Darshan             1  Pune   \n",
       "5408          10021         Darshan             1  Pune   \n",
       "\n",
       "                                                address         locality  \\\n",
       "5398                    Amar Business Park, Baner, Pune            Baner   \n",
       "5408  759/60, Prabhat Road, Opposite Indian Bank, De...  Deccan Gymkhana   \n",
       "\n",
       "           locality_verbose  longitude   latitude cuisines  ...  \\\n",
       "5398            Baner, Pune  73.767019  18.568732  Italian  ...   \n",
       "5408  Deccan Gymkhana, Pune  73.840957  18.514017  Italian  ...   \n",
       "\n",
       "      has_table_booking has_online_delivery  is_delivering_now  \\\n",
       "5398                  0                   1                  1   \n",
       "5408                  0                   1                  1   \n",
       "\n",
       "      switch_to_order_menu  price_range  aggregate_rating  rating_color  \\\n",
       "5398                     0            2               4.6        3F7E00   \n",
       "5408                     0            2               4.9        3F7E00   \n",
       "\n",
       "      rating_text votes country_name  \n",
       "5398    Excellent  1657        India  \n",
       "5408    Excellent  3106        India  \n",
       "\n",
       "[2 rows x 22 columns]"
      ]
     },
     "execution_count": 275,
     "metadata": {},
     "output_type": "execute_result"
    }
   ],
   "source": [
    "df.loc[ ( df['restaurant_name'] == 'Darshan' ), : ]\n"
   ]
  },
  {
   "cell_type": "code",
   "execution_count": 269,
   "metadata": {},
   "outputs": [
    {
     "data": {
      "text/html": [
       "<div>\n",
       "<style scoped>\n",
       "    .dataframe tbody tr th:only-of-type {\n",
       "        vertical-align: middle;\n",
       "    }\n",
       "\n",
       "    .dataframe tbody tr th {\n",
       "        vertical-align: top;\n",
       "    }\n",
       "\n",
       "    .dataframe thead th {\n",
       "        text-align: right;\n",
       "    }\n",
       "</style>\n",
       "<table border=\"1\" class=\"dataframe\">\n",
       "  <thead>\n",
       "    <tr style=\"text-align: right;\">\n",
       "      <th></th>\n",
       "      <th>restaurant_name</th>\n",
       "      <th>restaurant_id</th>\n",
       "      <th>aggregate_rating</th>\n",
       "    </tr>\n",
       "  </thead>\n",
       "  <tbody>\n",
       "    <tr>\n",
       "      <th>0</th>\n",
       "      <td>Darshan</td>\n",
       "      <td>10021</td>\n",
       "      <td>4.9</td>\n",
       "    </tr>\n",
       "    <tr>\n",
       "      <th>1</th>\n",
       "      <td>Cafe Del Sol Classico</td>\n",
       "      <td>6501298</td>\n",
       "      <td>4.9</td>\n",
       "    </tr>\n",
       "    <tr>\n",
       "      <th>2</th>\n",
       "      <td>Ombra</td>\n",
       "      <td>7100171</td>\n",
       "      <td>4.9</td>\n",
       "    </tr>\n",
       "    <tr>\n",
       "      <th>3</th>\n",
       "      <td>Celino's</td>\n",
       "      <td>7700796</td>\n",
       "      <td>4.9</td>\n",
       "    </tr>\n",
       "    <tr>\n",
       "      <th>4</th>\n",
       "      <td>Andre's Cucina &amp; Polenta Bar</td>\n",
       "      <td>16587684</td>\n",
       "      <td>4.9</td>\n",
       "    </tr>\n",
       "    <tr>\n",
       "      <th>5</th>\n",
       "      <td>Di Rienzo Grocery &amp; Deli</td>\n",
       "      <td>16663419</td>\n",
       "      <td>4.9</td>\n",
       "    </tr>\n",
       "    <tr>\n",
       "      <th>6</th>\n",
       "      <td>Chicago Pizza &amp; Oven Grinder Company</td>\n",
       "      <td>16733182</td>\n",
       "      <td>4.9</td>\n",
       "    </tr>\n",
       "    <tr>\n",
       "      <th>7</th>\n",
       "      <td>Regina Pizzeria</td>\n",
       "      <td>16797555</td>\n",
       "      <td>4.9</td>\n",
       "    </tr>\n",
       "    <tr>\n",
       "      <th>8</th>\n",
       "      <td>Bottega Louie</td>\n",
       "      <td>16831684</td>\n",
       "      <td>4.9</td>\n",
       "    </tr>\n",
       "    <tr>\n",
       "      <th>9</th>\n",
       "      <td>Perricone's Marketplace &amp; Café</td>\n",
       "      <td>16923457</td>\n",
       "      <td>4.9</td>\n",
       "    </tr>\n",
       "    <tr>\n",
       "      <th>10</th>\n",
       "      <td>Big Bill's</td>\n",
       "      <td>16967195</td>\n",
       "      <td>4.9</td>\n",
       "    </tr>\n",
       "    <tr>\n",
       "      <th>11</th>\n",
       "      <td>Osteria Marco</td>\n",
       "      <td>16973071</td>\n",
       "      <td>4.9</td>\n",
       "    </tr>\n",
       "    <tr>\n",
       "      <th>12</th>\n",
       "      <td>The Parlor Pizzeria</td>\n",
       "      <td>17030960</td>\n",
       "      <td>4.9</td>\n",
       "    </tr>\n",
       "    <tr>\n",
       "      <th>13</th>\n",
       "      <td>Cerroni's Purple Garlic</td>\n",
       "      <td>17156258</td>\n",
       "      <td>4.9</td>\n",
       "    </tr>\n",
       "    <tr>\n",
       "      <th>14</th>\n",
       "      <td>Guillermo's</td>\n",
       "      <td>17156955</td>\n",
       "      <td>4.9</td>\n",
       "    </tr>\n",
       "  </tbody>\n",
       "</table>\n",
       "</div>"
      ],
      "text/plain": [
       "                         restaurant_name  restaurant_id  aggregate_rating\n",
       "0                                Darshan          10021               4.9\n",
       "1                  Cafe Del Sol Classico        6501298               4.9\n",
       "2                                  Ombra        7100171               4.9\n",
       "3                               Celino's        7700796               4.9\n",
       "4           Andre's Cucina & Polenta Bar       16587684               4.9\n",
       "5               Di Rienzo Grocery & Deli       16663419               4.9\n",
       "6   Chicago Pizza & Oven Grinder Company       16733182               4.9\n",
       "7                        Regina Pizzeria       16797555               4.9\n",
       "8                          Bottega Louie       16831684               4.9\n",
       "9         Perricone's Marketplace & Café       16923457               4.9\n",
       "10                            Big Bill's       16967195               4.9\n",
       "11                         Osteria Marco       16973071               4.9\n",
       "12                   The Parlor Pizzeria       17030960               4.9\n",
       "13               Cerroni's Purple Garlic       17156258               4.9\n",
       "14                           Guillermo's       17156955               4.9"
      ]
     },
     "execution_count": 269,
     "metadata": {},
     "output_type": "execute_result"
    }
   ],
   "source": [
    "df_aux = ( df.loc[ ( df[ 'cuisines' ] == 'Italian' ), [ 'aggregate_rating', 'restaurant_name', 'restaurant_id' ] ].groupby( [ 'restaurant_name', 'restaurant_id' ] )\n",
    "                                                                                                                    .mean()\n",
    "                                                                                                                    .sort_values( [ 'aggregate_rating', 'restaurant_id' ], ascending=[ False, True ] )\n",
    "                                                                                                                    .reset_index()\n",
    "                                                                                                                    .head(15) )\n",
    "df_aux"
   ]
  },
  {
   "attachments": {},
   "cell_type": "markdown",
   "metadata": {},
   "source": [
    "##### 2. Dos restaurantes que possuem o tipo de culinária italiana, qual o nome do restaurante com a menor média de avaliação?\n"
   ]
  },
  {
   "cell_type": "code",
   "execution_count": 147,
   "metadata": {},
   "outputs": [
    {
     "data": {
      "text/plain": [
       "'La Bocca Bar e Trattoria'"
      ]
     },
     "execution_count": 147,
     "metadata": {},
     "output_type": "execute_result"
    }
   ],
   "source": [
    "df_aux = ( df.loc[ ( df[ 'cuisines' ] == 'Italian' ), [ 'aggregate_rating', 'restaurant_name' ] ].groupby( [ 'restaurant_name' ] )\n",
    "                                                                                        .mean()\n",
    "                                                                                        .sort_values( [ 'aggregate_rating' ] )\n",
    "                                                                                        .reset_index()\n",
    "                                                                                        .head(1) )\n",
    "df_aux[ 'restaurant_name' ][0]"
   ]
  },
  {
   "attachments": {},
   "cell_type": "markdown",
   "metadata": {},
   "source": [
    "##### 3. Dos restaurantes que possuem o tipo de culinária americana, qual o nome do restaurante com a maior média de avaliação?\n"
   ]
  },
  {
   "cell_type": "code",
   "execution_count": 270,
   "metadata": {},
   "outputs": [
    {
     "data": {
      "text/plain": [
       "'Burger & Lobster'"
      ]
     },
     "execution_count": 270,
     "metadata": {},
     "output_type": "execute_result"
    }
   ],
   "source": [
    "df_aux = ( df.loc[ ( df[ 'cuisines' ] == 'American' ), [ 'aggregate_rating', 'restaurant_name', 'restaurant_id' ] ].groupby( [ 'restaurant_id', 'restaurant_name' ] )\n",
    "                                                                                                                   .mean()\n",
    "                                                                                                                   .sort_values( [ 'aggregate_rating', 'restaurant_id' ], ascending = [ False, True ] )\n",
    "                                                                                                                   .reset_index()\n",
    "                                                                                                                   .head(50) )\n",
    "df_aux[ 'restaurant_name' ][0]"
   ]
  },
  {
   "attachments": {},
   "cell_type": "markdown",
   "metadata": {},
   "source": [
    "##### 4. Dos restaurantes que possuem o tipo de culinária americana, qual o nome do restaurante com a menor média de avaliação?\n"
   ]
  },
  {
   "cell_type": "code",
   "execution_count": 174,
   "metadata": {},
   "outputs": [
    {
     "data": {
      "text/plain": [
       "'Alston Bar & Beef'"
      ]
     },
     "execution_count": 174,
     "metadata": {},
     "output_type": "execute_result"
    }
   ],
   "source": [
    "df_aux = ( df.loc[ ( df[ 'cuisines' ] == 'American' ), [ 'aggregate_rating', 'restaurant_name', 'restaurant_id' ] ].groupby( [ 'restaurant_name', 'restaurant_id' ] )\n",
    "                                                                                                                   .mean()\n",
    "                                                                                                                   .sort_values( [ 'aggregate_rating', 'restaurant_id' ], ascending = True )\n",
    "                                                                                                                   .reset_index()\n",
    "                                                                                                                   .head(50) )\n",
    "df_aux[ 'restaurant_name' ][0]"
   ]
  },
  {
   "attachments": {},
   "cell_type": "markdown",
   "metadata": {},
   "source": [
    "##### 5. Dos restaurantes que possuem o tipo de culinária árabe, qual o nome do restaurante com a maior média de avaliação?\n"
   ]
  },
  {
   "cell_type": "code",
   "execution_count": 271,
   "metadata": {},
   "outputs": [
    {
     "data": {
      "text/plain": [
       "'Mandi@36'"
      ]
     },
     "execution_count": 271,
     "metadata": {},
     "output_type": "execute_result"
    }
   ],
   "source": [
    "df_aux = ( df.loc[ ( df[ 'cuisines' ] == 'Arabian' ), [ 'aggregate_rating', 'restaurant_name', 'restaurant_id' ] ].groupby( [ 'restaurant_name', 'restaurant_id' ] )\n",
    "                                                                                                                  .mean()\n",
    "                                                                                                                  .sort_values( [ 'aggregate_rating', 'restaurant_id' ], ascending = [ False, True ] )\n",
    "                                                                                                                  .reset_index()\n",
    "                                                                                                                  .head(50) )\n",
    "df_aux[ 'restaurant_name' ][0]"
   ]
  },
  {
   "attachments": {},
   "cell_type": "markdown",
   "metadata": {},
   "source": [
    "##### 6. Dos restaurantes que possuem o tipo de culinária árabe, qual o nome do restaurante com a menor média de avaliação?\n"
   ]
  },
  {
   "cell_type": "code",
   "execution_count": 180,
   "metadata": {},
   "outputs": [
    {
     "data": {
      "text/plain": [
       "'Raful'"
      ]
     },
     "execution_count": 180,
     "metadata": {},
     "output_type": "execute_result"
    }
   ],
   "source": [
    "df_aux = ( df.loc[ ( df[ 'cuisines' ] == 'Arabian' ), [ 'aggregate_rating', 'restaurant_name', 'restaurant_id' ] ].groupby( [ 'restaurant_name', 'restaurant_id' ] )\n",
    "                                                                                                                  .mean()\n",
    "                                                                                                                  .sort_values( [ 'aggregate_rating', 'restaurant_id' ], ascending = True )\n",
    "                                                                                                                  .reset_index()\n",
    "                                                                                                                  .head(50) )\n",
    "df_aux[ 'restaurant_name' ][0]"
   ]
  },
  {
   "attachments": {},
   "cell_type": "markdown",
   "metadata": {},
   "source": [
    "##### 7. Dos restaurantes que possuem o tipo de culinária japonesa, qual o nome do restaurante com a maior média de avaliação?\n"
   ]
  },
  {
   "cell_type": "code",
   "execution_count": 181,
   "metadata": {},
   "outputs": [
    {
     "data": {
      "text/plain": [
       "'Sushi Samba'"
      ]
     },
     "execution_count": 181,
     "metadata": {},
     "output_type": "execute_result"
    }
   ],
   "source": [
    "df_aux = ( df.loc[ ( df[ 'cuisines' ] == 'Japanese' ), [ 'aggregate_rating', 'restaurant_name', 'restaurant_id' ] ].groupby( [ 'restaurant_name', 'restaurant_id' ] )\n",
    "                                                                                                                   .mean()\n",
    "                                                                                                                   .sort_values( [ 'aggregate_rating', 'restaurant_id' ], ascending = [ False, True ] )\n",
    "                                                                                                                   .reset_index()\n",
    "                                                                                                                   .head(50) )\n",
    "df_aux[ 'restaurant_name' ][0]"
   ]
  },
  {
   "attachments": {},
   "cell_type": "markdown",
   "metadata": {},
   "source": [
    "##### 8. Dos restaurantes que possuem o tipo de culinária japonesa, qual o nome do restaurante com a menor média de avaliação?\n"
   ]
  },
  {
   "cell_type": "code",
   "execution_count": 182,
   "metadata": {},
   "outputs": [
    {
     "data": {
      "text/plain": [
       "'Banzai Sushi'"
      ]
     },
     "execution_count": 182,
     "metadata": {},
     "output_type": "execute_result"
    }
   ],
   "source": [
    "df_aux = ( df.loc[ ( df[ 'cuisines' ] == 'Japanese' ), [ 'aggregate_rating', 'restaurant_name', 'restaurant_id' ] ].groupby( [ 'restaurant_name', 'restaurant_id' ] )\n",
    "                                                                                                                   .mean()\n",
    "                                                                                                                   .sort_values( [ 'aggregate_rating', 'restaurant_id' ], ascending = True )\n",
    "                                                                                                                   .reset_index()\n",
    "                                                                                                                   .head(50) )\n",
    "df_aux[ 'restaurant_name' ][0]"
   ]
  },
  {
   "attachments": {},
   "cell_type": "markdown",
   "metadata": {},
   "source": [
    "##### 9. Dos restaurantes que possuem o tipo de culinária caseira, qual o nome do restaurante com a maior média de avaliação?\n"
   ]
  },
  {
   "cell_type": "code",
   "execution_count": 186,
   "metadata": {},
   "outputs": [
    {
     "data": {
      "text/plain": [
       "'Kanaat Lokantası'"
      ]
     },
     "execution_count": 186,
     "metadata": {},
     "output_type": "execute_result"
    }
   ],
   "source": [
    "df_aux = ( df.loc[ ( df[ 'cuisines' ] == 'Home-made' ), [ 'aggregate_rating', 'restaurant_name', 'restaurant_id' ] ].groupby( [ 'restaurant_name', 'restaurant_id' ] )\n",
    "                                                                                                                   .mean()\n",
    "                                                                                                                   .sort_values( [ 'aggregate_rating', 'restaurant_id' ], ascending = [ False, True ] )\n",
    "                                                                                                                   .reset_index()\n",
    "                                                                                                                   .head(50) )\n",
    "df_aux[ 'restaurant_name' ][0]"
   ]
  },
  {
   "attachments": {},
   "cell_type": "markdown",
   "metadata": {},
   "source": [
    "##### 10. Dos restaurantes que possuem o tipo de culinária caseira, qual o nome do restaurante com a menor média de avaliação?\n"
   ]
  },
  {
   "cell_type": "code",
   "execution_count": 187,
   "metadata": {},
   "outputs": [
    {
     "data": {
      "text/plain": [
       "'GurMekan Restaurant'"
      ]
     },
     "execution_count": 187,
     "metadata": {},
     "output_type": "execute_result"
    }
   ],
   "source": [
    "df_aux = ( df.loc[ ( df[ 'cuisines' ] == 'Home-made' ), [ 'aggregate_rating', 'restaurant_name', 'restaurant_id' ] ].groupby( [ 'restaurant_name', 'restaurant_id' ] )\n",
    "                                                                                                                   .mean()\n",
    "                                                                                                                   .sort_values( [ 'aggregate_rating', 'restaurant_id' ], ascending = True )\n",
    "                                                                                                                   .reset_index()\n",
    "                                                                                                                   .head(50) )\n",
    "df_aux[ 'restaurant_name' ][0]"
   ]
  },
  {
   "attachments": {},
   "cell_type": "markdown",
   "metadata": {},
   "source": [
    "##### 11. Qual o tipo de culinária que possui o maior valor médio de um prato para duas pessoas?\n"
   ]
  },
  {
   "cell_type": "code",
   "execution_count": 198,
   "metadata": {},
   "outputs": [
    {
     "data": {
      "text/plain": [
       "'Modern Australian'"
      ]
     },
     "execution_count": 198,
     "metadata": {},
     "output_type": "execute_result"
    }
   ],
   "source": [
    "df_aux = ( df.loc[ :, [ 'average_cost_for_two', 'cuisines' ] ].groupby( [ 'cuisines' ] )\n",
    "                                                              .mean()\n",
    "                                                              .sort_values( [ 'average_cost_for_two' ], ascending=False )\n",
    "                                                              .reset_index() )\n",
    "\n",
    "df_aux[ 'cuisines' ][0]"
   ]
  },
  {
   "attachments": {},
   "cell_type": "markdown",
   "metadata": {},
   "source": [
    "##### 12. Qual o tipo de culinária que possui a maior nota média?\n"
   ]
  },
  {
   "cell_type": "code",
   "execution_count": 199,
   "metadata": {},
   "outputs": [
    {
     "data": {
      "text/plain": [
       "'Others'"
      ]
     },
     "execution_count": 199,
     "metadata": {},
     "output_type": "execute_result"
    }
   ],
   "source": [
    "df_aux = ( df.loc[ :, [ 'aggregate_rating', 'cuisines' ] ].groupby( [ 'cuisines' ] )\n",
    "                                                          .mean()\n",
    "                                                          .sort_values( [ 'aggregate_rating' ], ascending=False )\n",
    "                                                          .reset_index() )\n",
    "\n",
    "df_aux[ 'cuisines' ][0]"
   ]
  },
  {
   "attachments": {},
   "cell_type": "markdown",
   "metadata": {},
   "source": [
    "##### 13. Qual o tipo de culinária que possui mais restaurantes que aceitam pedidos online e fazem entregas?"
   ]
  },
  {
   "cell_type": "code",
   "execution_count": 200,
   "metadata": {},
   "outputs": [
    {
     "data": {
      "text/plain": [
       "'North Indian'"
      ]
     },
     "execution_count": 200,
     "metadata": {},
     "output_type": "execute_result"
    }
   ],
   "source": [
    "df_aux = ( df.loc[ ( df[ 'has_online_delivery' ] == 1 ) & ( df[ 'is_delivering_now' ] == 1 ), [ 'restaurant_id', 'cuisines' ] ].groupby( [ 'cuisines' ] )\n",
    "                                                                                                                               .count()\n",
    "                                                                                                                               .sort_values( [ 'restaurant_id' ], ascending=False )\n",
    "                                                                                                                               .reset_index() )\n",
    "\n",
    "df_aux[ 'cuisines' ][0]"
   ]
  }
 ],
 "metadata": {
  "kernelspec": {
   "display_name": "Python 3",
   "language": "python",
   "name": "python3"
  },
  "language_info": {
   "codemirror_mode": {
    "name": "ipython",
    "version": 3
   },
   "file_extension": ".py",
   "mimetype": "text/x-python",
   "name": "python",
   "nbconvert_exporter": "python",
   "pygments_lexer": "ipython3",
   "version": "3.11.3"
  },
  "orig_nbformat": 4
 },
 "nbformat": 4,
 "nbformat_minor": 2
}
